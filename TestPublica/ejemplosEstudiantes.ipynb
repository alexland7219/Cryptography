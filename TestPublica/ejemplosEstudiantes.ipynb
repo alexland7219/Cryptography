{
 "cells": [
  {
   "cell_type": "markdown",
   "metadata": {},
   "source": [
    "<div id=\"insert_new_cell_before43\" class=\"insert_new_cell\"> </div>\n",
    "<div style=\"font-size: 13.2835px; font-family: sans-serif; left: 111.319px; top: 11.5218px; transform: rotate(0deg) scale(1.02269, 1); transform-origin: 0% 0% 0px;\" dir=\"ltr\" data-angle=\"0\" data-font-name=\"g_font_8_0\" data-canvas-width=\"149.3128115165351\">Sage Quick Reference:</div>\n",
    "<div style=\"font-size: 13.2835px; font-family: sans-serif; left: 90.8493px; top: 27.4619px; transform: rotate(0deg) scale(1.05577, 1); transform-origin: 0% 0% 0px;\" dir=\"ltr\" data-angle=\"0\" data-font-name=\"g_font_8_0\" data-canvas-width=\"190.03859318359125\">Elementary Number Theory</div>\n",
    "<div style=\"font-size: 13.2835px; font-family: sans-serif; left: 145.939px; top: 43.4018px; transform: rotate(0deg) scale(0.920315, 1); transform-origin: 0% 0% 0px;\" dir=\"ltr\" data-angle=\"0\" data-font-name=\"g_font_9_0\" data-canvas-width=\"80.06742606619518\">William Stein</div>\n",
    "<div style=\"font-size: 13.2835px; font-family: sans-serif; left: 138.319px; top: 59.3418px; transform: rotate(0deg) scale(0.882453, 1); transform-origin: 0% 0% 0px;\" dir=\"ltr\" data-angle=\"0\" data-font-name=\"g_font_9_0\" data-canvas-width=\"95.30489113364035\">Sage Version 3.4</div>\n",
    "<div style=\"font-size: 13.2835px; font-family: monospace; left: 70.9067px; top: 75.2832px; transform: rotate(0deg) scale(0.871728, 1); transform-origin: 0% 0% 0px;\" dir=\"ltr\" data-angle=\"0\" data-font-name=\"g_font_10_0\" data-canvas-width=\"230.1360668585892\">http://wiki.sagemath.org/quickref</div>\n",
    "<p><a title=\"http://wiki.sagemath.org/quickref?action=AttachFile&do=get&target=quickref-nt.pdf\" href=\"http://wiki.sagemath.org/quickref?action=AttachFile&do=get&target=quickref-nt.pdf\">http://wiki.sagemath.org/quickref?action=AttachFile&do=get&target=quickref-nt.pdf</a></p>\n",
    "\n"
   ]
  },
  {
   "cell_type": "markdown",
   "metadata": {},
   "source": [
    "# Cálculo de raíces"
   ]
  },
  {
   "cell_type": "code",
   "execution_count": 1,
   "metadata": {
    "ExecuteTime": {
     "end_time": "2020-10-27T11:24:51.917058Z",
     "start_time": "2020-10-27T11:24:51.899880Z"
    },
    "execution": {
     "iopub.execute_input": "2022-09-28T10:34:18.859909Z",
     "iopub.status.busy": "2022-09-28T10:34:18.859582Z",
     "iopub.status.idle": "2022-09-28T10:34:18.872160Z",
     "shell.execute_reply": "2022-09-28T10:34:18.871404Z",
     "shell.execute_reply.started": "2022-09-28T10:34:18.859881Z"
    },
    "tags": []
   },
   "outputs": [
    {
     "name": "stdout",
     "output_type": "stream",
     "text": [
      "CPU times: user 514 µs, sys: 56 µs, total: 570 µs\n",
      "Wall time: 582 µs\n"
     ]
    },
    {
     "data": {
      "text/plain": [
       "141246703213942603683520966701614733366889617518454111681368808585711816984270751255808912631671152637335603208431366082764203838069979338335971185726639923431051777851865399011877999645131707069373498212631323752553111215372844035950900535954860733418453405575566736801565587405464699640499050849699472357900905617571376618228216434213181520991556677126498651782204174061830939239176861341383294018240225838692725596147005144243281075275629495339093813198966735633606329691023842454125835888656873133981287240980008838073668221804264432910894030789020219440578198488267339768238872279902157420307247570510423845868872596735891805818727796435753018518086641356012851302546726823009250218328018251907340245449863183265637987862198511046362985461949587281119139907228004385942880953958816554567625296086916885774828934449941362416588675326940332561103664556982622206834474219811081872404929503481991376740379825998791411879802717583885498575115299471743469241117070230398103378615232793710290992656444842895511830355733152020804157920090041811951880456705515468349446182731742327685989277607620709525878318766488368348965015474997864119765441433356928012344111765735336393557879214937004347568208665958717764059293592887514292843557047089164876483116615691886203812997555690171892169733755224469032475078797830901321579940127337210694377283439922280274060798234786740434893458120198341101033812506720046609891160700284002100980452964039788704335302619337597862052192280371481132164147186514169090917191909376"
      ]
     },
     "execution_count": 1,
     "metadata": {},
     "output_type": "execute_result"
    }
   ],
   "source": [
    "import time\n",
    "e=17\n",
    "c=(2^5000)^e\n",
    "%time c^(1/e)"
   ]
  },
  {
   "cell_type": "markdown",
   "metadata": {},
   "source": [
    "<h2>Cálculo de raíces cuadradas módulo <em>p</em> y <em>n</em></h2>\n",
    "\n",
    "Para facilitar el cálculo de las raíces cuadradas: $p\\equiv 3\\mod 4$"
   ]
  },
  {
   "cell_type": "code",
   "execution_count": 2,
   "metadata": {
    "ExecuteTime": {
     "end_time": "2020-10-27T11:25:52.038726Z",
     "start_time": "2020-10-27T11:25:51.996691Z"
    },
    "execution": {
     "iopub.execute_input": "2022-09-28T10:34:18.873604Z",
     "iopub.status.busy": "2022-09-28T10:34:18.873301Z",
     "iopub.status.idle": "2022-09-28T10:34:18.884989Z",
     "shell.execute_reply": "2022-09-28T10:34:18.884249Z",
     "shell.execute_reply.started": "2022-09-28T10:34:18.873581Z"
    },
    "tags": []
   },
   "outputs": [],
   "source": [
    "NumeroDeBits=128+64+16; # 128+64\n",
    "\n",
    "limite=2^(NumeroDeBits/2)\n",
    "r1=randint(0,limite)\n",
    "r2=randint(0,limite)\n",
    "p1=next_probable_prime(r1)\n",
    "p2=next_probable_prime(r2)\n",
    "n=p1*p2\n",
    "\n",
    "p1=next_probable_prime(n)\n",
    "while mod(p1,4)!=3:\n",
    "    p1=next_probable_prime(p1)\n",
    "p2=next_probable_prime(r1^2)\n",
    "while mod(p2,4)==3:\n",
    "    p2=next_probable_prime(p2)\n",
    "\n"
   ]
  },
  {
   "cell_type": "markdown",
   "metadata": {},
   "source": [
    "Defino $\\mathbb Z_n$, $\\mathbb Z_{p_1}$, $\\mathbb Z_{p_2}$, y $a_n$ como un elemento de $\\mathbb Z_n$, $a_1$ como un elemento de $\\mathbb Z_{p_1}$ y $a_2$ como un elemento de $\\mathbb Z_{p_2}$ (es más eficiente que trabajar directamente con $a$ a la hora de hacer los cálculos)."
   ]
  },
  {
   "cell_type": "code",
   "execution_count": 3,
   "metadata": {
    "execution": {
     "iopub.execute_input": "2022-09-28T10:34:18.887617Z",
     "iopub.status.busy": "2022-09-28T10:34:18.887211Z",
     "iopub.status.idle": "2022-09-28T10:34:18.898615Z",
     "shell.execute_reply": "2022-09-28T10:34:18.897975Z",
     "shell.execute_reply.started": "2022-09-28T10:34:18.887583Z"
    },
    "tags": []
   },
   "outputs": [
    {
     "name": "stdout",
     "output_type": "stream",
     "text": [
      "a= 147457182700193026101467166174821570364447551404283273464689330137355774857629822367187954144465359903212725463338267921350656\n",
      "a₁= 6008686218158328029230735630300001149182283930424063984201011\n",
      "p₁= 18732160084691508580375493811009475790998915954303002177879071\n",
      "a₂= 7241586045530592578509992910792237766484054798554241418462198\n",
      "p₂= 7950359548746912766445098021696550546843606562318012643937861\n",
      "aₙ= 12200674584034542121783255006902250389448512983091584525336639\n",
      "n= 18732160084691508580375493811009475790998915954303002177879061\n"
     ]
    }
   ],
   "source": [
    "Z1= IntegerModRing(p1)\n",
    "Z2= IntegerModRing(p2)\n",
    "Zn= IntegerModRing(n)\n",
    "\n",
    "a=(randint(0,limite))^4\n",
    "a1=Z1(a) \n",
    "a2=Z2(a)\n",
    "an=Zn(a)\n",
    "\n",
    "print('a=',a)\n",
    "print('a₁=',a1)\n",
    "print('p₁=',p1)\n",
    "print('a₂=',a2)\n",
    "print('p₂=',p2)\n",
    "print('aₙ=',an)\n",
    "print('n=',n)"
   ]
  },
  {
   "cell_type": "markdown",
   "metadata": {},
   "source": [
    "**Raíces módulo primo $p$, $p\\equiv 3\\mod 4$**"
   ]
  },
  {
   "cell_type": "code",
   "execution_count": 4,
   "metadata": {
    "ExecuteTime": {
     "end_time": "2020-10-27T11:25:54.161315Z",
     "start_time": "2020-10-27T11:25:54.032567Z"
    },
    "execution": {
     "iopub.execute_input": "2022-09-28T10:34:18.900277Z",
     "iopub.status.busy": "2022-09-28T10:34:18.899873Z",
     "iopub.status.idle": "2022-09-28T10:34:18.951710Z",
     "shell.execute_reply": "2022-09-28T10:34:18.950552Z",
     "shell.execute_reply.started": "2022-09-28T10:34:18.900237Z"
    },
    "tags": []
   },
   "outputs": [
    {
     "name": "stdout",
     "output_type": "stream",
     "text": [
      "CPU times: user 68 µs, sys: 8 µs, total: 76 µs\n",
      "Wall time: 78.4 µs\n",
      "CPU times: user 28.1 ms, sys: 0 ns, total: 28.1 ms\n",
      "Wall time: 27.9 ms\n",
      "CPU times: user 12.8 ms, sys: 70 µs, total: 12.9 ms\n",
      "Wall time: 12.7 ms\n",
      "CPU times: user 36 µs, sys: 4 µs, total: 40 µs\n",
      "Wall time: 41 µs\n"
     ]
    }
   ],
   "source": [
    "#raices módulo primo\n",
    "%time raiz21=a1^((p1+1)/4)\n",
    "%time raiz1=sqrt(a1)\n",
    "%time sqrt(a2)\n",
    "%time raiz22=-a1^((p1+1)/4)"
   ]
  },
  {
   "cell_type": "markdown",
   "metadata": {},
   "source": [
    "**Raíces módulo $n$ compuesto**\n",
    "\n",
    "NumeroDeBits:\n",
    "  * 128+64 ~ 3s, \n",
    "  * 128+64+8 ~ 7s, \n",
    "  * 128+64+16 ~ 10s"
   ]
  },
  {
   "cell_type": "code",
   "execution_count": 5,
   "metadata": {
    "ExecuteTime": {
     "end_time": "2020-10-27T11:26:19.625586Z",
     "start_time": "2020-10-27T11:26:14.950227Z"
    },
    "execution": {
     "iopub.execute_input": "2022-09-28T10:34:18.952960Z",
     "iopub.status.busy": "2022-09-28T10:34:18.952639Z",
     "iopub.status.idle": "2022-09-28T10:34:24.769579Z",
     "shell.execute_reply": "2022-09-28T10:34:24.768873Z",
     "shell.execute_reply.started": "2022-09-28T10:34:18.952932Z"
    },
    "tags": []
   },
   "outputs": [
    {
     "name": "stdout",
     "output_type": "stream",
     "text": [
      "NumeroDeBits = 208\n",
      "CPU times: user 5.84 s, sys: 31.5 ms, total: 5.88 s\n",
      "Wall time: 5.81 s\n"
     ]
    },
    {
     "data": {
      "text/plain": [
       "9358338277291592774780379285595188397997489105749451230121564"
      ]
     },
     "execution_count": 5,
     "metadata": {},
     "output_type": "execute_result"
    }
   ],
   "source": [
    "print('NumeroDeBits =',NumeroDeBits)\n",
    "%time sqrt(an)"
   ]
  },
  {
   "cell_type": "markdown",
   "metadata": {},
   "source": [
    "<h1>Primalidad versus factorización</h1>"
   ]
  },
  {
   "cell_type": "code",
   "execution_count": 6,
   "metadata": {
    "ExecuteTime": {
     "end_time": "2020-10-27T11:39:44.471098Z",
     "start_time": "2020-10-27T11:39:24.579684Z"
    },
    "execution": {
     "iopub.execute_input": "2022-09-28T10:34:24.770762Z",
     "iopub.status.busy": "2022-09-28T10:34:24.770404Z",
     "iopub.status.idle": "2022-09-28T10:34:48.163133Z",
     "shell.execute_reply": "2022-09-28T10:34:48.162417Z",
     "shell.execute_reply.started": "2022-09-28T10:34:24.770725Z"
    },
    "tags": []
   },
   "outputs": [
    {
     "name": "stdout",
     "output_type": "stream",
     "text": [
      "Generar primos 2048 bits\n",
      "Tiempo para generar p:  2.786817\n",
      "Tiempo para generar q:  1.127759000000001\n",
      "Generar primo 4096 bits\n",
      "Tiempo para generar primo de 4096 bits:  1.9457159999999991\n",
      "Comprobar si compuesto/primo 4096 bits\n",
      "Tiempo para entero compuesto de 4096 bits:  0.02719899999999953\n",
      "Tiempo para primo de 4096 bits:  0.08486100000000008\n",
      "\n",
      "Generar primos 2048 bits\n",
      "Tiempo para generar p:  0.114984999999999\n",
      "Tiempo para generar q:  3.3527659999999955\n",
      "Generar primo 4096 bits\n",
      "Tiempo para generar primo de 4096 bits:  2.471145\n",
      "Comprobar si compuesto/primo 4096 bits\n",
      "Tiempo para entero compuesto de 4096 bits:  0.027117000000000502\n",
      "Tiempo para primo de 4096 bits:  0.08627099999999999\n",
      "\n",
      "Generar primos 2048 bits\n",
      "Tiempo para generar p:  1.311637000000001\n",
      "Tiempo para generar q:  0.2702110000000033\n",
      "Generar primo 4096 bits\n",
      "Tiempo para generar primo de 4096 bits:  1.991699999999998\n",
      "Comprobar si compuesto/primo 4096 bits\n",
      "Tiempo para entero compuesto de 4096 bits:  0.028106000000001075\n",
      "Tiempo para primo de 4096 bits:  0.08985099999999946\n",
      "\n",
      "Generar primos 2048 bits\n",
      "Tiempo para generar p:  0.07289300000000054\n",
      "Tiempo para generar q:  0.10466300000000217\n",
      "Generar primo 4096 bits\n",
      "Tiempo para generar primo de 4096 bits:  0.29448400000000063\n",
      "Comprobar si compuesto/primo 4096 bits\n",
      "Tiempo para entero compuesto de 4096 bits:  0.02940500000000057\n",
      "Tiempo para primo de 4096 bits:  0.08399100000000104\n",
      "\n",
      "Generar primos 2048 bits\n",
      "Tiempo para generar p:  0.4808360000000036\n",
      "Tiempo para generar q:  0.7700269999999989\n",
      "Generar primo 4096 bits\n",
      "Tiempo para generar primo de 4096 bits:  5.853072000000001\n",
      "Comprobar si compuesto/primo 4096 bits\n",
      "Tiempo para entero compuesto de 4096 bits:  0.028116000000000696\n",
      "Tiempo para primo de 4096 bits:  0.08430399999999949\n",
      "\n"
     ]
    }
   ],
   "source": [
    "NumerodDeBits=1024*4\n",
    "for _ in range(5):\n",
    "    r1=randint(0,2^(NumerodDeBits/2));\n",
    "    r2=randint(0,2^(NumerodDeBits/2));\n",
    "    print(\"Generar primos\", NumerodDeBits/2, \"bits\")\n",
    "    t0=cputime()\n",
    "    p1=next_probable_prime(r1);\n",
    "    print(\"Tiempo para generar p: \",cputime()-t0, flush=True)\n",
    "    t0=cputime()\n",
    "    p2=next_probable_prime(r2);\n",
    "    print(\"Tiempo para generar q: \",cputime()-t0, flush=True)\n",
    "    n=p1*p2;\n",
    "    #print \"n=\",n\n",
    "    r3=randint(0,2^NumerodDeBits);\n",
    "    print(\"Generar primo\", NumerodDeBits, \"bits\")\n",
    "    t0=cputime()\n",
    "    p3=next_probable_prime(r3);\n",
    "    print(\"Tiempo para generar primo de\", NumerodDeBits, \"bits: \",cputime()-t0, flush=True)\n",
    "    #print p3;\n",
    "    proof.arithmetic(False)\n",
    "    print(\"Comprobar si compuesto/primo\", NumerodDeBits, \"bits\")\n",
    "    t0=cputime()\n",
    "    is_prime(n); \n",
    "    print(\"Tiempo para entero compuesto de\", NumerodDeBits, \"bits: \",cputime()-t0, flush=True)\n",
    "    t0=cputime()\n",
    "    is_prime(p3); \n",
    "    print(\"Tiempo para primo de\", NumerodDeBits, \"bits: \",cputime()-t0, flush=True)\n",
    "    print()\n"
   ]
  },
  {
   "cell_type": "markdown",
   "metadata": {},
   "source": [
    "**n=p q**\n",
    "  * p,q~$2^{50} \\text{ tarda ~}0,05s$</span></p>\n",
    "  * p,q~$2^{100} \\text{ tarda ~}6 s$</span></span></p>\n",
    "  * p,q~$2^{110} \\text{ tarda ~} 25s$</span></p>\n",
    "  * p,q~$2^{120} \\text{ tarda ~}  75-115s$</span></p>"
   ]
  },
  {
   "cell_type": "code",
   "execution_count": 7,
   "metadata": {
    "ExecuteTime": {
     "end_time": "2020-10-27T11:40:13.353689Z",
     "start_time": "2020-10-27T11:40:02.485806Z"
    },
    "execution": {
     "iopub.execute_input": "2022-09-28T10:34:48.164734Z",
     "iopub.status.busy": "2022-09-28T10:34:48.164305Z",
     "iopub.status.idle": "2022-09-28T10:37:47.557565Z",
     "shell.execute_reply": "2022-09-28T10:37:47.556893Z",
     "shell.execute_reply.started": "2022-09-28T10:34:48.164693Z"
    },
    "tags": []
   },
   "outputs": [
    {
     "name": "stdout",
     "output_type": "stream",
     "text": [
      "--------------------------------------------------\n",
      "Tamaño en bits: 100\n",
      "Factorización: 78695089933079 * 1033824074444641\n",
      "Tiempo= 0.005599000000000132\n",
      "\n",
      "Factorización: 690692201352389 * 798501055740319\n",
      "Tiempo= 0.005091000000000179\n",
      "\n",
      "Factorización: 328757379805571 * 914732950017253\n",
      "Tiempo= 0.008236999999997607\n",
      "\n",
      "Factorización: 634823423801389 * 697449675882599\n",
      "Tiempo= 0.00591100000000111\n",
      "\n",
      "Factorización: 627197341300697 * 949226194524523\n",
      "Tiempo= 0.0049539999999979045\n",
      "\n",
      "Factorización: 481822579898281 * 670741927431377\n",
      "Tiempo= 0.004951999999999401\n",
      "\n",
      "Factorización: 160206817058129 * 399139445670913\n",
      "Tiempo= 0.005438000000001608\n",
      "\n",
      "Factorización: 440741397508339 * 668603254220857\n",
      "Tiempo= 0.005268000000000939\n",
      "\n",
      "Factorización: 275941023422419 * 924004464911443\n",
      "Tiempo= 0.004709999999999326\n",
      "\n",
      "Factorización: 88328176609507 * 750400680337309\n",
      "Tiempo= 0.005383999999999389\n",
      "\n",
      "--------------------------------------------------\n",
      "Tamaño en bits: 200\n",
      "Factorización: 358320233489286620345802324083 * 427222102150672622409670569253\n",
      "Tiempo= 3.958798000000005\n",
      "\n",
      "Factorización: 1042631896005433302214759377553 * 1169231712354071670318448827689\n",
      "Tiempo= 4.3099869999999925\n",
      "\n",
      "Factorización: 842272593060104912165263679761 * 1194410746025395965543796036001\n",
      "Tiempo= 4.926333\n",
      "\n",
      "Factorización: 1005902382115950481563442911313 * 1227448194334410891047821868233\n",
      "Tiempo= 4.059697999999997\n",
      "\n",
      "Factorización: 375023570948903858891033299561 * 1236714837501084371511071667907\n",
      "Tiempo= 3.9238749999999953\n",
      "\n",
      "--------------------------------------------------\n",
      "Tamaño en bits: 220\n",
      "Factorización: 163488357605980739075520033250661 * 1139238805835840957004388075500023\n",
      "Tiempo= 12.177359999999993\n",
      "\n",
      "Factorización: 244134498728744040169298724989927 * 1163475436683319189063857848417831\n",
      "Tiempo= 14.085187000000005\n",
      "\n",
      "Factorización: 540693202467050334676901528001541 * 551311658716221638103159098050961\n",
      "Tiempo= 16.862194000000002\n",
      "\n",
      "--------------------------------------------------\n",
      "Tamaño en bits: 240\n",
      "Factorización: 631181997569366445949199144774894821 * 933258225855798639440190290117916791\n",
      "Tiempo= 48.22287\n",
      "\n",
      "Factorización: 963829876171429524154280019712426643 * 1042674873254329385267601136137131957\n",
      "Tiempo= 68.26790700000001\n",
      "\n"
     ]
    }
   ],
   "source": [
    "exponentes=[50,100,110,120]\n",
    "factorizaciones=[10,5,3,2]\n",
    "for exponente, n_aux in zip(exponentes,factorizaciones):\n",
    "    limite=2^exponente\n",
    "    print('-'*50+'\\nTamaño en bits:', 2*exponente, flush=True)\n",
    "    for _ in range(n_aux):\n",
    "        r1=randint(0,limite)\n",
    "        r2=randint(0,limite)\n",
    "        p1=next_probable_prime(r1)\n",
    "        p2=next_probable_prime(r2)\n",
    "        n=p1*p2\n",
    "\n",
    "        t0=cputime()\n",
    "        aux=factor(n)\n",
    "        print(\"Factorización:\",aux, flush=True)\n",
    "        print(\"Tiempo=\",cputime()-t0, flush=True)\n",
    "        print()"
   ]
  },
  {
   "cell_type": "code",
   "execution_count": null,
   "metadata": {},
   "outputs": [],
   "source": []
  },
  {
   "cell_type": "code",
   "execution_count": null,
   "metadata": {},
   "outputs": [],
   "source": []
  },
  {
   "cell_type": "code",
   "execution_count": null,
   "metadata": {},
   "outputs": [],
   "source": []
  }
 ],
 "metadata": {
  "kernelspec": {
   "display_name": "SageMath 9.4",
   "language": "sage",
   "name": "sagemath"
  },
  "language": "python",
  "language_info": {
   "codemirror_mode": {
    "name": "ipython",
    "version": 3
   },
   "file_extension": ".py",
   "mimetype": "text/x-python",
   "name": "python",
   "nbconvert_exporter": "python",
   "pygments_lexer": "ipython3",
   "version": "3.9.5"
  }
 },
 "nbformat": 4,
 "nbformat_minor": 4
}
