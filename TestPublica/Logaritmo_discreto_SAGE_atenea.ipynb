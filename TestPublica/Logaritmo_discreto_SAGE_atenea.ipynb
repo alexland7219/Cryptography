{
 "cells": [
  {
   "cell_type": "markdown",
   "metadata": {
    "execution": {
     "iopub.execute_input": "2021-10-29T10:58:56.421757Z",
     "iopub.status.busy": "2021-10-29T10:58:56.421333Z",
     "iopub.status.idle": "2021-10-29T10:59:06.564224Z",
     "shell.execute_reply": "2021-10-29T10:59:06.561821Z",
     "shell.execute_reply.started": "2021-10-29T10:58:56.421714Z"
    }
   },
   "source": [
    "\n",
    "<center>\n",
    "     <font size=\"6\">Logaritmo discreto</font>\n",
    "</center>\n",
    "\n",
    "\n",
    "* Diffie, W., and Hellman, M. **(1976)** *New directions in cryptography.* IEEE Trans. Inform. Theory IT-22, 644–654.\n",
    "\n",
    "\n",
    "\n"
   ]
  },
  {
   "cell_type": "markdown",
   "metadata": {
    "execution": {
     "iopub.execute_input": "2021-10-29T10:58:56.421757Z",
     "iopub.status.busy": "2021-10-29T10:58:56.421333Z",
     "iopub.status.idle": "2021-10-29T10:59:06.564224Z",
     "shell.execute_reply": "2021-10-29T10:59:06.561821Z",
     "shell.execute_reply.started": "2021-10-29T10:58:56.421714Z"
    }
   },
   "source": [
    "+ <a href=\"#LD_1\" id=\"vLD_1\">Introducción</a>\n",
    "    * <a href=\"#LD_1.1\" id=\"vLD_1.1\">Diffie-Helmman en $\\mathbb Z_p$</a>\n",
    "    * <a href=\"#LD_1.2\" id=\"vLD_1.2\">ElGamal en $\\mathbb Z_p$</a>\n",
    "    * <a href=\"#LD_1.3\" id=\"vLD_1.3\">The Digital Signature Algorithm (DSA)</a>\n",
    "    * <a href=\"#LD_1.4\" id=\"vLD_1.4\">El problema del logaritmo discreto</a>\n",
    "+ <a href=\"#LD_2\" id=\"vLD_2\">Cálculo del logaritmo discreto</a>\n",
    "    * <a href=\"#LD_2.1\" id=\"vLD_2.1\">Baby-step, Giant-step</a>\n",
    "    * <a href=\"#LD_2.2\" id=\"vLD_2.2\">Silver-Pohling-Hellman</a>\n",
    "    * <a href=\"#LD_2.3\" id=\"vLD_2.3\">Index calculus</a>\n",
    "+ <a href=\"#LD_3\" id=\"vLD_3\">Curvas Elípticas\n",
    "    * <a href=\"#LD_3.1\" id=\"vLD_3.1\">Curvas elípticas sobre $\\mathbb Z_p$</a>\n",
    "    * <a href=\"#LD_3.2\" id=\"vLD_3.2\">Teorema de Hasse. Orden de un punto</a>\n",
    "    * <a href=\"#LD_3.3\" id=\"vLD_3.3\">DH sobre curvas elípticas</a>\n",
    "    * <a href=\"#LD_3.4\" id=\"vLD_3.4\">ECDSA</a>\n",
    "    * <a href=\"#LD_3.5\" id=\"vLD_3.5\">Seguridad</a>\n",
    "    \n",
    "    \n",
    "    \n",
    "    \n",
    "    \n",
    "    "
   ]
  },
  {
   "cell_type": "markdown",
   "metadata": {
    "execution": {
     "iopub.execute_input": "2021-10-29T10:58:56.421757Z",
     "iopub.status.busy": "2021-10-29T10:58:56.421333Z",
     "iopub.status.idle": "2021-10-29T10:59:06.564224Z",
     "shell.execute_reply": "2021-10-29T10:59:06.561821Z",
     "shell.execute_reply.started": "2021-10-29T10:58:56.421714Z"
    }
   },
   "source": [
    "# <a href=\"#vLD_1\" id=\"LD_1\">Introducción</a>"
   ]
  },
  {
   "cell_type": "markdown",
   "metadata": {
    "execution": {
     "iopub.execute_input": "2021-10-29T10:58:56.421757Z",
     "iopub.status.busy": "2021-10-29T10:58:56.421333Z",
     "iopub.status.idle": "2021-10-29T10:59:06.564224Z",
     "shell.execute_reply": "2021-10-29T10:59:06.561821Z",
     "shell.execute_reply.started": "2021-10-29T10:58:56.421714Z"
    }
   },
   "source": [
    "## <a href=\"#vLD_1.1\" id=\"LD_1.1\">Diffie-Helmman en $\\mathbb Z_p$</a>\n",
    "\n",
    "Sean $p$ primo y $g\\in\\mathbb Z_p^*$ de orden $r$ suficientemente grande.\n",
    "\n",
    "\n",
    "![Diffie-Helmman en $\\mathbb Z_p$](logaritmo_discreto0x.png)\n",
    "\n",
    "\n",
    "\n",
    "\n",
    "Para *romper* el sistema deberíamos poder calcular logaritmos discretos o resolver el problema de DH: hallar $\\delta$ a partir de $\\alpha$ y $\\beta$."
   ]
  },
  {
   "cell_type": "code",
   "execution_count": null,
   "metadata": {
    "tags": []
   },
   "outputs": [],
   "source": [
    "import time\n",
    "\n",
    "def primo_2q1(bits):\n",
    "    '''\n",
    "    Devuelve un primo p de la forma 2*q+1 siendo q primo también\n",
    "    '''\n",
    "    q=next_probable_prime(randint(2**(bits-1),2**bits))\n",
    "    p=2*q+1\n",
    "\n",
    "    while is_prime(p)==False:\n",
    "        q=next_probable_prime(randint(2**(bits-1),2**bits))\n",
    "        p=2*q+1\n",
    "    return p\n",
    "\n",
    "bits=1024\n",
    "\n",
    "# p=primo_2q1(bits)\n",
    "# ~ 24 segundos\n",
    "# p=346148821213692554956910344544298105621773144123056855354628819161664151118780952705147338968098087081259894636531361045371268381435976442869303996411184376055358704996320890147947671409697928250869744288676406152295262964727008942985658602716592075890830021686024509431231075145043394012548658381406046511703\n",
    "# ~ 65 segundos\n",
    "# p=220822880467271174008834409346362988768333190519055894066995612897972947133703956768959345250906698848784030690953280591688921042163345789692958549868511451801490028613489095077544509946703533335088255538800135803183742110700142290411141091188100487492760814269485550072403432746137719356155579734289955490147\n",
    "\n",
    "# p=307521036136329708293976056546828057014575795418370471956299315097095004870819640612539480296167611192518166936983627496873265617854259520504436649126143709327903457679134575624431868126991788564065570883509413268349609018352396124067316555827339919776480289189328550470345196415687988544363709812214687272019\n",
    "\n",
    "p=288458560380430136848390661697516226721175242735376086104852012466262728255189549344495879920255277045637871556872288765087590695091461535844143277328136263878250061220110615902611962802519819071478617369377306539851011592842226534040973487458177347791666895791829805973097301764437565642483770393576775108359\n",
    "\n",
    "q=Integer((p-1)/2)\n",
    "orden=p-1\n",
    "\n",
    "g=mod(2,p)\n",
    "while pow(g,q,p)==1:\n",
    "    g=g+1\n",
    "\n",
    "show(html('Genero los parámetros, $p$ primo de la forma $p=2q+1$, $q$ primo, y $g$ generador'))\n",
    "show(html('$p={}$'.format(p,)))\n",
    "show(html('$g={}$'.format(g)))\n",
    "print()\n",
    "\n",
    "a=randint(1,orden)\n",
    "b=randint(1,orden)\n",
    "\n",
    "alpha=g**a\n",
    "beta=g**b\n",
    "show(html('Alicia envía $\\\\alpha={}$'.format(alpha)))\n",
    "show(html('Benito envía $\\\\beta={}$'.format(beta)))\n",
    "\n",
    "delta_a=beta**a\n",
    "delta_b=alpha**b\n",
    "\n",
    "print('Han llegado al mismo secreto?',delta_a==delta_b)\n",
    "\n"
   ]
  },
  {
   "cell_type": "code",
   "execution_count": null,
   "metadata": {
    "tags": []
   },
   "outputs": [],
   "source": []
  },
  {
   "cell_type": "markdown",
   "metadata": {
    "execution": {
     "iopub.execute_input": "2021-10-29T10:58:56.421757Z",
     "iopub.status.busy": "2021-10-29T10:58:56.421333Z",
     "iopub.status.idle": "2021-10-29T10:59:06.564224Z",
     "shell.execute_reply": "2021-10-29T10:59:06.561821Z",
     "shell.execute_reply.started": "2021-10-29T10:58:56.421714Z"
    }
   },
   "source": [
    "## <a href=\"#vLD_1.2\" id=\"LD_1.2\">ElGamal en $\\mathbb{Z}_p$</a>\n",
    "\n",
    "\n",
    "Sean $p$ primo y $g$ generador de $\\mathbb Z_p^*$ \n",
    "comunes a todos los usuarios (es suficiente con que el orden de $g$ sea suficientemente grande). \n",
    "\n",
    "Cada participante elige como **clave privada** $s\\in\\mathbb Z_{p-1}$. \n",
    "Su **clave pública** es $\\alpha=g^s\\mod p$.\n",
    "\n",
    "Cifrado:\n",
    "* Se transforma el mensaje en elementos de $\\mathbb Z_{p}^*$.\n",
    "* Para cada $m$ se elige $k\\in [1,p-1]$ aleatorio.\n",
    "* Se envía el criptograma \n",
    "    $$\n",
    "    c=(c_1,c_2)=(g^{k}, m \\alpha^k) \\mod p.\n",
    "    $$\n",
    "\n",
    "Descifrado: $c=(c_1,c_2)=(g^{k}, m \\alpha^k) \\mod p$ se descifra calculando\n",
    "$$\n",
    "c_2c_1^{p-1-s}=m\\alpha^kg^{k(p-1)-ks}=mg^{sk}g^{-ks}=m \\mod p.\n",
    "$$\n",
    "\n",
    "Para romper el sistema deberíamos saber calcular $s$ a partir de $\\alpha$, \n",
    "o sea, calcular el logaritmo discreto módulo $p$ en base $g$ de $\\alpha$."
   ]
  },
  {
   "cell_type": "raw",
   "metadata": {},
   "source": []
  },
  {
   "cell_type": "markdown",
   "metadata": {},
   "source": [
    "## <a href=\"#vLD_1.3\" id=\"LD_1.3\">The Digital Signature Algorithm (DSA)</a>\n",
    "\n",
    "DSA may be used to verify signatures generated prior to the implementation date of the \n",
    "[FIPS 186-5 Digital Signature Standard (DSS)](https://csrc.nist.gov/pubs/fips/186-5/final).\n",
    "\n",
    "\n",
    "See FIPS 186-4 for the specifications for the DSA. \n",
    "http://nvlpubs.nist.gov/nistpubs/FIPS/NIST.FIPS.186-4.pdf"
   ]
  },
  {
   "cell_type": "markdown",
   "metadata": {},
   "source": [
    "### **Generación de claves**\n",
    "\n",
    "Cada usuario realiza los siguientes pasos:\n",
    "\n",
    "* Elige $q$ primo, $2^{N-1}<q<2^{N}$ ($N$ bits).\n",
    "* Elige $p$ primo de $L$ bits tal que $q\\vert (p-1)$.\n",
    "* Elige $x\\in\\mathbb Z_p^*$ y calcula $g=x^{\\frac{p-1}{q}}\\text{ mod } p$.\n",
    "     Si $g=1$ se toma otro $x$. ($g$ es el generador de un grupo cíclico.)\n",
    "* Elige $r\\in[2,q-1]$ aleatorio.\n",
    "* Calcula $u=g^r \\text{ mod } p$.\n",
    "* La clave pública es $\\{p,q,g,u\\}$, la clave privada es $r$.\n",
    "\n",
    "| L     | N |\n",
    "| ----  | - |\n",
    "| 2048  | 224 |\n",
    "| 2048  | 256 |\n",
    "| 3072  | 256 |\n",
    "\n",
    "\n",
    "\n",
    "### **Firma**\n",
    "\n",
    "Para firmar un mensaje $m$ se realizan los siguientes pasos:\n",
    "\n",
    "* Se elige $k\\in[2,q-1]$ aleatorio.\n",
    "* Se calcula $f_1=(g^k \\text{ mod } p) \\text{ mod } q$.\n",
    "* Se calcula $k^{-1} \\text{ mod } q$.\n",
    "* Se calcula $f_2=k^{-1}(SHA(m)+rf_1) \\text{ mod } q$. \n",
    "     Si $f_2=0$ se toma otro $k$.\n",
    "* La firma es el par $(f_1,f_2)$.\n",
    "\n",
    "### **Verificación de la firma**\n",
    "\n",
    "Para verificar que la firma $(f_1,f_2)$ del mensaje $m$\n",
    "es de A se realizan los pasos:\n",
    "\n",
    "* Se busca la clave pública de A, $\\{p,q,g,u\\}$.\n",
    "* Se calcula $w=f_2^{-1} \\text{ mod } q$.\n",
    "* Se calcula $\\alpha_1=SHA(m) w \\text{ mod } q$ y  $\\alpha_2=f_1 w \\text{ mod } q$.\n",
    "* Se calcula $v=g^{\\alpha_1}u^{\\alpha_2}\\text{ mod } p$.\n",
    "* La firma es válida si $v\\equiv f_1 \\text{ mod } q$.\n",
    "\n",
    "\n",
    "\n",
    "**Observación:** La firma tiene longitud igual a $2N$ bits."
   ]
  },
  {
   "cell_type": "code",
   "execution_count": null,
   "metadata": {
    "tags": []
   },
   "outputs": [],
   "source": [
    "L = 2048\n",
    "N = 256\n",
    "\n",
    "q = random_prime(2**(N-1), 2**(N))\n",
    "aux = randint(2**(L-N-1), 2**(L-N))\n",
    "p = aux*q+1\n",
    "while is_prime(p) == False:\n",
    "    print('.', end='')\n",
    "    aux = randint(2**(L-N-1), 2**(L-N))\n",
    "    p = aux*q+1"
   ]
  },
  {
   "cell_type": "code",
   "execution_count": null,
   "metadata": {
    "tags": []
   },
   "outputs": [],
   "source": [
    "aux = randint(2**(L-1), 2**(L))\n",
    "g = power_mod(aux, Integer((p-1)/q), p)\n",
    "while g == 1:\n",
    "    aux = randint(2, p-1)\n",
    "    g = power_mod(aux, Integer((p-1)/q), p)\n",
    "\n",
    "r = randint(2, q-1)\n",
    "u = power_mod(g, r, p)\n",
    "\n",
    "show(html('Clave Pública: \\n$p={}$  \\n$q={}$  \\n$g={}$ \\n$u={}$'.format(p, q, g, u)))\n",
    "show(html('Clave Privada: \\n$r={}$'.format(r)))\n",
    "\n",
    "\n",
    "'''\n",
    "Firma\n",
    "'''\n",
    "m = randint(2, q-1)\n",
    "\n",
    "k = randint(2, q-1)\n",
    "f1 = Integer(mod(power_mod(g, k, p), q))\n",
    "k_inv = power_mod(k, -1, q)\n",
    "f2 = Integer(mod(k_inv*(m+r*f1), q))\n",
    "while f2 == 0:\n",
    "    k = randint(2, q-1)\n",
    "    f1 = Integer(mod(power_mod(g, k, p), q))\n",
    "    k_inv = power_mod(k,-1, q)\n",
    "    f2 = Integer(mod(k_inv*(m+r*f1), q))\n",
    "show(html('Firma: \\n$f_1={}$ \\n$f_2={}$'.format(f1, f2)))\n",
    "\n",
    "'''\n",
    "Verificación Firma\n",
    "'''\n",
    "w = power_mod(f2, -1, q)\n",
    "x1 = Integer(mod(m*w, q))\n",
    "x2 = Integer(mod(f1*w, q))\n",
    "v = mod(power_mod(g, x1, p)*power_mod(u, x2, p), p)\n",
    "verificacion = mod(v, q) == mod(f1, q)\n",
    "show(html('Es válida la firma? {}'.format(verificacion)))"
   ]
  },
  {
   "cell_type": "raw",
   "metadata": {
    "tags": []
   },
   "source": []
  },
  {
   "cell_type": "raw",
   "metadata": {},
   "source": []
  },
  {
   "cell_type": "markdown",
   "metadata": {
    "execution": {
     "iopub.execute_input": "2021-10-29T10:58:56.421757Z",
     "iopub.status.busy": "2021-10-29T10:58:56.421333Z",
     "iopub.status.idle": "2021-10-29T10:59:06.564224Z",
     "shell.execute_reply": "2021-10-29T10:59:06.561821Z",
     "shell.execute_reply.started": "2021-10-29T10:58:56.421714Z"
    }
   },
   "source": [
    "## <a href=\"#vLD_1.4\" id=\"LD_1.4\">El problema del logaritmo discreto</a>\n",
    "\n",
    "Sea $(G, \\circ)$ un grupo cíclico: La operación es interna, asociativa, \n",
    "con elemento neutro, cada elemento tiene inverso y existe $g$ que\n",
    "genera el grupo.\n",
    "\n",
    "Se define $\\log_g x=k$ si $g^k=x$.\n",
    "\n",
    "El problema del logaritmo discreto depende de la representación \n",
    "del grupo.\n",
    "\n",
    "\n",
    "**Ejemplo:** \n",
    "\n",
    "$(\\mathbb Z_p,+)$, $g$ generador.\n",
    "\n",
    "Nuestro problema sería, dado $x$, hallar $k$ tal que \n",
    "$\\overbrace{g+\\cdots+g}^k=x$, o sea, resolver $gk\\equiv x\\text{ mod } p$, \n",
    "cuya solución es $k\\equiv xg^{-1}\\text{ mod } p$ que es fácil de calcular.\n",
    "\n",
    "En $(\\mathbb Z_p,+)$, $\\log_g x=xg^{-1}\\text{ mod } p$.\n",
    "\n",
    "\n",
    "**Ejemplo:**  \n",
    "$(\\mathbb Z_p^*,\\cdot)$, $g$ generador.\n",
    " \n",
    "Sea $\\phi$ un isomorfismo entre $(\\mathbb Z_p^*,\\cdot)$ y \n",
    "$(\\mathbb Z_{p-1},+)$, o sea, $\\phi$ es una biyección entre\n",
    "$\\mathbb Z_p^*$ y $\\mathbb Z_{p-1}$ tal que \n",
    "$$ \\phi(xy \\text{ mod } p)=\\phi(x)+\\phi(y)\\text{ mod } p-1. $$\n",
    "Entonces $\\phi(g^k\\text{ mod } p)=k \\phi(g) \\text{ mod } p-1$, y por lo tanto\n",
    "$$  x\\equiv g^k\\text{ mod } p \\Leftrightarrow k\\phi(g)\\equiv\\phi(x) \\text{ mod } p-1.$$\n",
    "\n",
    "Hemos transformado nuestro problema del logaritmo discreto en\n",
    "$\\mathbb Z_p^*$ en un problema del logaritmo discreto en\n",
    "$\\mathbb Z_{p-1}$, que ya sabemos resolver. Hemos trasladado \n",
    "la dificultad del cálculo del logaritmo discreto en $\\mathbb Z_p^*$\n",
    "a hallar el isomorfismo $\\phi$.\n",
    "\n",
    "\n",
    "   "
   ]
  },
  {
   "cell_type": "raw",
   "metadata": {},
   "source": []
  },
  {
   "cell_type": "markdown",
   "metadata": {
    "execution": {
     "iopub.execute_input": "2021-10-29T10:58:56.421757Z",
     "iopub.status.busy": "2021-10-29T10:58:56.421333Z",
     "iopub.status.idle": "2021-10-29T10:59:06.564224Z",
     "shell.execute_reply": "2021-10-29T10:59:06.561821Z",
     "shell.execute_reply.started": "2021-10-29T10:58:56.421714Z"
    }
   },
   "source": [
    "En la práctica, aparte de considerar $\\mathbb Z_p^*$ también se \n",
    "trabaja en otros grupos:\n",
    "* Grupo multiplicativo de un cuerpo finito:\n",
    "  - $\\mathbb Z_p^*$,\n",
    "  - $\\mathbb F_{2^n}$.  \n",
    "* Grupo formado por los puntos de una curva elíptica.\n"
   ]
  },
  {
   "cell_type": "raw",
   "metadata": {},
   "source": []
  },
  {
   "cell_type": "markdown",
   "metadata": {
    "execution": {
     "iopub.execute_input": "2021-10-29T10:58:56.421757Z",
     "iopub.status.busy": "2021-10-29T10:58:56.421333Z",
     "iopub.status.idle": "2021-10-29T10:59:06.564224Z",
     "shell.execute_reply": "2021-10-29T10:59:06.561821Z",
     "shell.execute_reply.started": "2021-10-29T10:58:56.421714Z"
    }
   },
   "source": [
    "# <a href=\"#vLD_2\" id=\"LD_2\">Cálculo del logaritmo discreto</a>\n",
    "                                                                     "
   ]
  },
  {
   "cell_type": "markdown",
   "metadata": {
    "execution": {
     "iopub.execute_input": "2021-10-29T10:58:56.421757Z",
     "iopub.status.busy": "2021-10-29T10:58:56.421333Z",
     "iopub.status.idle": "2021-10-29T10:59:06.564224Z",
     "shell.execute_reply": "2021-10-29T10:59:06.561821Z",
     "shell.execute_reply.started": "2021-10-29T10:58:56.421714Z"
    }
   },
   "source": [
    "                                                                     \n",
    "## <a href=\"#vLD_2.1\" id=\"LD_2.1\">Baby-step, Giant-step</a>\n",
    "\n",
    "Sea $g$ generador de $G$ grupo de orden $n$, $(g^n=1)$.\n",
    "\n",
    "Sea $\\beta\\in G$, deseamos hallar un entero $x$ tal que $g^x=\\beta$:\n",
    "1. Sea $M=\\lceil\\sqrt{n}\\rceil$\n",
    "1. Se calcula la tabla \n",
    "  $$\n",
    "  (j,g^j)\\quad j=0,\\dots,M-1,\\, j\\in\\mathbb Z, \\, g^j\\in G.\n",
    "  $$\n",
    "  es conveniente ordenar la tabla por la segunda componente.\n",
    "1. Se calcula $g^{-M}$ y sea $\\gamma=\\beta$. \n",
    "1.  Para $i=0$ hasta $M-1$\n",
    "  * Se busca $\\gamma$ en la tabla\n",
    "      - Si $\\gamma=g^j$ entonces $x=i\\cdot M+j$\n",
    "      - en caso contrario $\\gamma=\\gamma\\cdot g^{-M}$.\n",
    "\n",
    "* La tabla tiene un coste de construcción ${\\cal O}(\\sqrt{n})$,  requiere almacenar ${\\cal O}(\\sqrt{n})$  elementos y tiene un coste de ordenación ${\\cal O}(\\sqrt{n}\\log n)$\n",
    "* el último punto del algoritmo tiene un coste de ${\\cal O}(\\sqrt{n})$ multiplicaciones\n",
    "     y ${\\cal O}(\\sqrt{n})$ comparaciones.\n",
    "     \n",
    " "
   ]
  },
  {
   "cell_type": "code",
   "execution_count": null,
   "metadata": {
    "tags": []
   },
   "outputs": [],
   "source": [
    "pretty_print(html('$G=\\\\mathbb Z_p$, $p$ primo'))\n",
    "\n",
    "\n",
    "NdeBits=16\n",
    "p=primo_2q1(NdeBits)\n",
    "q=Integer((p-1)/2)\n",
    "g=mod(randint(0,2^(NdeBits)),p);\n",
    "while g^2==1 or g^q==1:\n",
    "    print( \"+\",end='');\n",
    "    g=mod(randint(0,2^(NdeBits)),p);\n",
    "\n",
    "#p=113; q=112; g=3 #Logaritmo discreto de juguete\n",
    "    \n",
    "M=ceil(sqrt(q-1));\n",
    "  \n",
    "gM=mod(g^-M,p);\n",
    "\n",
    "Tabla=[[i,mod(g^i,p)] for i in range(0,M)]\n",
    "Tabla=sorted(Tabla, key=lambda x: x[1])\n",
    "Tabla_exp=[i[1] for i in Tabla]\n",
    "Tabla_log=[i[0] for i in Tabla]\n",
    "\n",
    "show(html('$p= ${0} <br> $g= ${1} <br> La tabla tiene {2} elementos<br> '.format(p,g,M)))  \n",
    "\n",
    "if NdeBits <=20:\n",
    "    print(\"\\n Tabla exponencial:\", Tabla_exp)\n",
    "    print(\"\\n Tabla logaritmos:\", Tabla_log)\n",
    "else:\n",
    "    print(\"\\n Tablas muy grandes\")"
   ]
  },
  {
   "cell_type": "code",
   "execution_count": null,
   "metadata": {
    "tags": []
   },
   "outputs": [],
   "source": [
    "Beta=mod(g^randint(0,q-1),p);\n",
    "\n",
    "Gamma=Beta;\n",
    "\n",
    "t1=walltime();\n",
    "fin=False;\n",
    "i=0;\n",
    "while i in range(0,M) and not(fin):\n",
    "    print('                                          ', end='\\r')\n",
    "    print('i=',i+1, ' de ',M, 'Gamma=', Gamma, end='\\r')\n",
    "    time.sleep(float(0.25))\n",
    "#    print('.', end='')\n",
    "    try:\n",
    "        j=Tabla_exp.index(Gamma)\n",
    "    except:   \n",
    "        j=-1\n",
    "    if j!=-1:\n",
    "        x=i*M+Tabla_log[j];\n",
    "        print( \"\\nLogaritmo Discreto de\",Beta,\"en base\",g, \"es:\",x);\n",
    "        print(g**x==Beta)\n",
    "        print('Tiempo:',walltime(t1));\n",
    "        fin=True;\n",
    "        break;\n",
    "    else:\n",
    "        Gamma=Gamma*gM;\n",
    "    i=i+1;\n",
    "print('Tiempo:',walltime(t1));\n",
    "\n"
   ]
  },
  {
   "cell_type": "raw",
   "metadata": {},
   "source": []
  },
  {
   "cell_type": "markdown",
   "metadata": {
    "execution": {
     "iopub.execute_input": "2021-10-29T10:58:56.421757Z",
     "iopub.status.busy": "2021-10-29T10:58:56.421333Z",
     "iopub.status.idle": "2021-10-29T10:59:06.564224Z",
     "shell.execute_reply": "2021-10-29T10:59:06.561821Z",
     "shell.execute_reply.started": "2021-10-29T10:58:56.421714Z"
    }
   },
   "source": [
    "## <a href=\"#vLD_2.2\" id=\"LD_2.2\">Silver-Pohling-Hellman</a>\n",
    "\n",
    "$g$ generador de orden $n$ de un grupo cíclico $G$. \n",
    "\n",
    "Consideremos el problema de hallar logaritmos discretos en base $g$.\n",
    "\n",
    "Escribamos $n=\\Pi p_k^{\\alpha_k}$. Para cada $p_k$\n",
    "calculamos\n",
    "$$\n",
    "a(i,p_k)=g^{i\\,n/p_k}  \\hskip0.5cm 0\\leq i < p_k.\n",
    "$$\n",
    "Si todos los $p_k$ son pequeños, el cálculos de los $a(i,p_k)$\n",
    "es factible.\n",
    "\n",
    "Dado $\\beta\\in G$ deseamos hallar $x\\in\\mathbb Z$ tal que $\\beta=g^x$.\n",
    "Para ello vamos a calcular $x\\mod p_k^{\\alpha_k}$ y después\n",
    "recuperaremos $x$ utilizando el teorema chino de los restos.\n",
    "\n",
    "Para calcular $x\\mod p_k^{\\alpha_k}$ consideremos la representación\n",
    "de este entero en base $p_k$:\n",
    "$$\n",
    "x \\mod p_k^{\\alpha_k}= x_0+x_1 p_k+x_2 p_k^2+\\cdots+\n",
    "x_{\\alpha_k-1}p^{\\alpha_k-1}, \\quad 0\\leq x_i< p_k-1\n",
    "$$\n",
    "Para hallar $x_0$ calculamos $\\beta^{n/p_k}$ que será igual a algún\n",
    "$a(i,p_k)$, entonces $x_0=i$ ya que \n",
    "$$\n",
    "\\beta^{n/p_k}=g^{x\\,n/p_k}=g^{x_0\\,n/p_k+x_1\\,n+x_2\\,np_k+\\ldots}\n",
    "=g^{x_0\\,n/p_k}=a(x_0,p_k).\n",
    "$$\n",
    "Para hallar $x_1$ calculamos $\\beta_1=g^{-x_0}\\beta$. Ahora, análogamente, \n",
    "$$\n",
    "\\beta_1^{n/p_k^2}=a(x_1,p_k).\n",
    "$$\n",
    "Para hallar $x_2$ calculamos $\\beta_2=g^{-x_0-x_1p_k}\\beta$, entonces\n",
    "$$\n",
    "\\beta_2^{n/p_k^3}=a(x_2,p_k).\n",
    "$$\n",
    "De esta forma podemos obtener todos los valores $x_i$ y, por \n",
    "lo tanto, $x \\mod p_k^{\\alpha_k}$.\n",
    "\n"
   ]
  },
  {
   "cell_type": "code",
   "execution_count": null,
   "metadata": {
    "tags": []
   },
   "outputs": [],
   "source": [
    "pretty_print(html('$G=\\\\mathbb Z_p$, $p$ primo'))\n",
    "\n",
    "contador=0\n",
    "p=2**randint(3,4)*3**randint(3,4)*5**randint(3,4)*7**randint(3,4)*randint(10,1000)+1\n",
    "while is_prime(p)==False and contador<100:\n",
    "    p=2**randint(3,4)*5**randint(3,4)*7**randint(3,4)*randint(10,100)+1\n",
    "    contador=contador+1\n",
    "    print('.', end='')\n",
    "print()\n",
    "\n",
    "NdeBits=32\n",
    "#p=next_probable_prime(randint(2**(NdeBits-1),2**NdeBits))\n",
    "    \n",
    "    \n",
    "    \n",
    "factorizacion1=factor(p-1)\n",
    "factorizacion=list(factorizacion1)\n",
    "divisores=divisors(p-1)\n",
    "\n",
    "\n",
    "g=mod(2,p)\n",
    "while g.multiplicative_order()!=p-1:\n",
    "    g=g+1\n",
    "\n",
    "\n",
    "primos=[i[0] for i in factorizacion]\n",
    "exponentes=[i[1] for i in factorizacion]\n",
    "a=[['' for _ in range(len(primos))] for _ in range(primos[-1])]\n",
    "for k in range(len(primos)):\n",
    "    for i in range(primos[k]):\n",
    "        a[i][k]=g**(i*(p-1)/primos[k])\n",
    "\n",
    "a_aux=[['' for _ in range(len(primos)+1)] for _ in range(primos[-1]+1)]\n",
    "a_aux[0][0]='i \\\\ p '\n",
    "for k in range(len(primos)):\n",
    "    a_aux[0][k+1]=primos[k]\n",
    "    for i in range(primos[k]):\n",
    "        a_aux[i+1][k+1]=a[i][k]\n",
    "        a_aux[i+1][0]=i\n",
    "\n",
    "pretty_print('p= ',p, ', g=',g)\n",
    "pretty_print('p-1= ',p-1,'= ',factorizacion1)\n",
    "\n",
    "if primos[-1]<100:\n",
    "    pretty_print(html('\\n    Tabla $a(i,p_k)$'))\n",
    "    print(table(a_aux, header_row=True, header_column=True,align='right'))\n"
   ]
  },
  {
   "cell_type": "code",
   "execution_count": null,
   "metadata": {
    "tags": []
   },
   "outputs": [],
   "source": [
    "Beta=mod(randint(1,p-1),p)\n",
    "x=[0]*len(primos)\n",
    "for k in range(len(primos)):\n",
    "    pk=primos[k]\n",
    "    ap=[a[i][k] for i in range(pk)]\n",
    "    Gamma=Beta\n",
    "    print()\n",
    "    for j in range(exponentes[k]):\n",
    "        aux=Gamma**((p-1)/pk**(j+1))\n",
    "        i=ap.index(aux)\n",
    "        x[k]=Integer(x[k]+i*pk**j)\n",
    "        Gamma=Beta*g**(-x[k])\n",
    "        print(pk,aux,i,x[k])\n",
    "x=crt(x,[primos[k]**exponentes[k] for k in range(len(primos))])\n",
    "\n",
    "\n",
    "print()\n",
    "print('p =',p, ', g =',g)\n",
    "print('p-1 = ',p-1,'= ',factorizacion1)\n",
    "print('El logaritmo de',Beta,' en base',g,'es', x)\n",
    "print(Beta==g**x)"
   ]
  },
  {
   "cell_type": "raw",
   "metadata": {},
   "source": []
  },
  {
   "cell_type": "markdown",
   "metadata": {
    "execution": {
     "iopub.execute_input": "2021-10-29T10:58:56.421757Z",
     "iopub.status.busy": "2021-10-29T10:58:56.421333Z",
     "iopub.status.idle": "2021-10-29T10:59:06.564224Z",
     "shell.execute_reply": "2021-10-29T10:59:06.561821Z",
     "shell.execute_reply.started": "2021-10-29T10:58:56.421714Z"
    }
   },
   "source": [
    "## <a href=\"#vLD_2.3\" id=\"LD_2.3\">Index calculus</a>\n",
    " \n",
    " \n",
    " <p>$g$ generador de orden $n$ de un grupo cíclico $G$.</p>\n",
    "<p>Dado $\\beta\\in G$ queremos hallar $k\\in\\mathbb{Z}$ tal que $g^k=\\beta$</p>\n",
    "<p> </p>\n",
    "<ol>\n",
    "<li>Se selecciona una <em>base $S=\\{h_1,\\dots,h_t\\}$ </em>de forma que una<em> porción grande</em> de elementos de $G$ se puedan escribir como <em>productos </em>de elementos de $S$: $$\\beta=h_1^{e_1} h_2^{e_2} \\cdots h_t^{e_t}$$ </li>\n",
    "<li>Se calculan los logaritmos discretos (LD) de los elementos de $S$:<ol style=\"list-style-type: lower-roman;\">\n",
    "<li>$0\\leq k\\leq n-1$ aleatorio, calculamos $g^k$</li>\n",
    "<li>Se intenta escribir $g^k=\\prod h_i^{e_i}$, $e_i\\geq 0$. Si es posible, entonces $k=\\sum e_i\\log(h_i) \\mod n\\ (*)$</li>\n",
    "<li>Se repite el proceso hasta obtener $t$ relaciones del tipo $(*)$ que nos permitan plantear un sistema lineal de ecuaciones resoluble donde las incognitas son los $\\log h_i$ </li>\n",
    "</ol></li>\n",
    "<li>Cálculo del LD concreto:<ol style=\"list-style-type: lower-roman;\">\n",
    "<li>$0\\leq k\\leq n-1$ aleatorio, calculamos $g^k$</li>\n",
    "<li>Si $\\beta g^k=\\prod h_i^{d_i}$, $d_i\\geq 0$ entonces  $\\log\\beta+k=\\sum d_i\\log(h_i) \\mod n$, i.e. $\\log\\beta=\\sum d_i\\log(h_i) \\mod n-k$</li>\n",
    "</ol></li>\n",
    "</ol>\n",
    "<div> </div>\n",
    "<div>La tabla del punto (2) sólo hay que calcularla una vez, es la parte más costosa.</div>\n",
    "<div>El punto (3) es muy rápido en comparación con (2)</div>\n",
    "<div>El coste es ${\\cal O}((\\exp(c(\\log(n))^{1/3}(\\log(\\log(n)))^{2/3})$ si calculamos el LD en $\\mathbb{Z}_p$.</div>\n",
    " \n",
    "\n",
    "\n",
    "\n",
    "\n",
    "\n"
   ]
  },
  {
   "cell_type": "code",
   "execution_count": null,
   "metadata": {
    "tags": []
   },
   "outputs": [],
   "source": [
    "pretty_print(html('$G=\\\\mathbb Z_p$, $p$ primo'))\n",
    "\n",
    "\n",
    "NdeBits=16\n",
    "p=next_probable_prime(randint(2**(NdeBits-1),2**NdeBits))\n",
    "\n",
    "\n",
    "#p=229;\n",
    "g=mod(2,p)\n",
    "while g.multiplicative_order()!=p-1:\n",
    "    g=g+1\n",
    "\n",
    "ordenG=p-1;\n",
    "\n",
    "Base=list(primes(1,20));\n",
    "NumeroDePrimos=len(Base);\n",
    "NumeroDeLogaritmosABuscar=NumeroDePrimos*2\n",
    "NumeroDeLogaritmos=0;\n",
    "NumeroDeIntentos=0;\n",
    "\n",
    "\n",
    "print (\"Primo    : \", p)\n",
    "print (\"Generador: \", g)\n",
    "\n",
    "print (\"Base de primos: \", Base)\n",
    "\n",
    "\n",
    "exponenteMatrix = [[0 for i in range(0,NumeroDePrimos+2)] for i in range(0,NumeroDeLogaritmosABuscar)] \n",
    "\n",
    "while NumeroDeLogaritmos<NumeroDeLogaritmosABuscar:\n",
    "    NumeroDeIntentos=NumeroDeIntentos+1;\n",
    "    exponente=list([0 for i in  range(0,NumeroDePrimos)]);\n",
    "    k=randint(1,ordenG);\n",
    "    x2=mod(g^k,p);\n",
    "    for i in range(NumeroDePrimos):\n",
    "        pi=Base[i];\n",
    "        while mod(x2,pi)==0:\n",
    "            exponente[i]=exponente[i]+1;\n",
    "            x2=x2/pi\n",
    "    if x2==1:\n",
    "        print( \"Numero de Intentos: \", NumeroDeIntentos, \"; k=\",k, \"; g^k mod p =\",mod(g^k,p));\n",
    "        for i in range(len(Base)):\n",
    "            pi=Base[i];\n",
    "            exponenteMatrix[NumeroDeLogaritmos][i]=exponente[i];\n",
    "            #print pi, \"^\", exponente[i];\n",
    "        exponenteMatrix[NumeroDeLogaritmos][NumeroDePrimos]=k;\n",
    "        exponenteMatrix[NumeroDeLogaritmos][NumeroDePrimos+1]=Integer(mod(g^k,p));\n",
    "        NumeroDeLogaritmos=NumeroDeLogaritmos+1;\n",
    "        \n",
    "for i in range(NumeroDeLogaritmosABuscar):\n",
    "    print (i,  exponenteMatrix[i],\"   \", factor(exponenteMatrix[i][NumeroDePrimos+1]))\n",
    "\n",
    "Matrices=MatrixSpace(ZZ, NumeroDePrimos);\n",
    "M=Matrices.matrix( [ exponenteMatrix[i][j] for j in range(NumeroDePrimos) ] for i in range(NumeroDePrimos));\n",
    "\n",
    "V=vector(ZZ, [exponenteMatrix[i][NumeroDePrimos] for i in range(NumeroDePrimos) ]);\n",
    "\n",
    "\n",
    "\n",
    "solucion = M.solve_right(V);\n",
    "print('Solución:', solucion)\n",
    "\n",
    "cte=1\n",
    "#solucion2=Integer(mod(cte^-1,ordenG))*cte*solucion\n",
    "solucion2=[mod(i,ordenG) for i in solucion]\n",
    "print(solucion2)\n",
    "for i in range(NumeroDePrimos):\n",
    "    print (\"Logaritmo de\", Base[i],\"=\", mod(solucion2[i],ordenG),mod(g^solucion2[i],p)==Base[i])\n",
    "    if mod(g^solucion2[i],p)!=Base[i]:\n",
    "        print('----------------------Error-----------------------')\n",
    "    "
   ]
  },
  {
   "cell_type": "code",
   "execution_count": null,
   "metadata": {
    "tags": []
   },
   "outputs": [],
   "source": [
    "Beta=13\n",
    "Beta=randint(1,p-1)\n",
    "NumeroDeLogaritmos=0\n",
    "while NumeroDeLogaritmos<1:\n",
    "    NumeroDeIntentos=NumeroDeIntentos+1\n",
    "    exponente=list([0 for i in  range(0,NumeroDePrimos)])\n",
    "    k=randint(1,ordenG)\n",
    "    x2=Beta*g**k\n",
    "    for i in range(NumeroDePrimos):\n",
    "        pi=Base[i]\n",
    "        while mod(x2,pi)==0:\n",
    "            exponente[i]=exponente[i]+1\n",
    "            x2=x2/pi\n",
    "    if x2==1:\n",
    "        print( \"Numero de Intentos: \", NumeroDeIntentos, \"; k=\",k, \"; Beta*g^k mod p =\",Beta*g**k) \n",
    "        NumeroDeLogaritmos=NumeroDeLogaritmos+1;\n",
    "        \n",
    "print (exponente,\"   \", factor(Integer(Beta*g**k)))\n",
    "\n",
    "LD=0\n",
    "for i in range(NumeroDePrimos):\n",
    "    LD=LD+mod(solucion2[i],ordenG)*exponente[i]\n",
    "LD=LD-k\n",
    "print (\"Logaritmo de\", Beta,\"=\", LD)\n",
    "print(g**LD==Beta)   "
   ]
  },
  {
   "cell_type": "raw",
   "metadata": {},
   "source": []
  },
  {
   "cell_type": "raw",
   "metadata": {},
   "source": []
  },
  {
   "cell_type": "markdown",
   "metadata": {
    "execution": {
     "iopub.execute_input": "2021-10-29T10:58:56.421757Z",
     "iopub.status.busy": "2021-10-29T10:58:56.421333Z",
     "iopub.status.idle": "2021-10-29T10:59:06.564224Z",
     "shell.execute_reply": "2021-10-29T10:59:06.561821Z",
     "shell.execute_reply.started": "2021-10-29T10:58:56.421714Z"
    }
   },
   "source": [
    "# <a href=\"#vLD_3\" id=\"LD_3\">Curvas Elípticas</a>\n",
    " "
   ]
  },
  {
   "cell_type": "markdown",
   "metadata": {
    "execution": {
     "iopub.execute_input": "2021-10-29T10:58:56.421757Z",
     "iopub.status.busy": "2021-10-29T10:58:56.421333Z",
     "iopub.status.idle": "2021-10-29T10:59:06.564224Z",
     "shell.execute_reply": "2021-10-29T10:59:06.561821Z",
     "shell.execute_reply.started": "2021-10-29T10:58:56.421714Z"
    }
   },
   "source": [
    "## <a href=\"#vLD_3.1\" id=\"LD_3.1\">Curvas elípticas sobre $\\mathbb Z_p$</a>\n",
    " \n",
    " Sean $p>3$ primo y $a$, $b\\in\\mathbb Z_p$ tales que $4a^3+27b^2\\neq 0$ \n",
    "en $\\mathbb Z_p$ (para que todo punto tenga tangente i.e. las derivadas\n",
    "parciales no sean ambas cero en algún punto de la curva).\n",
    "\n",
    "Una curva elíptica $E(\\mathbb Z_p)$ sobre $\\mathbb Z_p$ definida por\n",
    "los parámetros $a$, $b$ es el conjunto de soluciones $(x,y)$, \n",
    "$x$, $y\\in\\mathbb Z_p,$ de la ecuación\n",
    "$$ y^2=x^3+ax+b, $$\n",
    "al que se le añade el punto del infinito ${\\cal O}$.\n",
    "\n",
    "$E(\\mathbb Z_p)$ forma un grupo abeliano con la operación suma definida:\n",
    "1. ${\\cal O}+{\\cal O}={\\cal O}$.\n",
    "1. $(x,y)+{\\cal O}=(x,y)$, ${\\cal O}$ es la identidad.\n",
    "1. $(x,y)+(x,-y)={\\cal O}$. El inverso de un elemento se obtiene cambiando el signo de la segunda componente.\n",
    ">\n",
    ">**Observación:** Si $(x,y)\\in E(\\mathbb Z_p)$ entonces $(x,-y)\\in E(\\mathbb Z_p)$.\n",
    "1. Regla para la suma de dos puntos distintos que no son uno inverso del otro:\n",
    "\t$$\n",
    "\t(x_1,y_1)+(x_2,y_2)=(x_3,y_3),\n",
    "\t$$\n",
    "\t\\begin{align*}\n",
    "\tx_3= & \\lambda^2-x_1-x_2,    \\\\\n",
    "\ty_3= & \\lambda(x_1-x_3)-y_1, \\\\\n",
    "\t\\lambda= & \\frac{y_2-y_1}{x_2-x_1}.\n",
    "\t\\end{align*}\n",
    "1. Regla para sumar un punto consigo mismo:\n",
    "\t$$\n",
    "\t2\\,(x_1,y_1)=(x_1,y_1)+(x_1,y_1)=(x_3,y_3),\n",
    "\t$$\n",
    "\t\\begin{align*}\n",
    "\tx_3= & \\lambda^2-2x_1,    \\\\\n",
    "\ty_3= & \\lambda(x_1-x_3)-y_1, \\\\\n",
    "\t\\lambda= & \\frac{3x_1^2+a}{2y_1}.\n",
    "\t\\end{align*}\n",
    "\n",
    "**Notas:**\n",
    "* Multiplicar un punto $P=(x,y)$ por $n$ significa $P+\\cdots+P$.\n",
    "    - $44P=2[2(2[2(2P)+P]+P)]$\n",
    "* Multiplicar un punto $P=(x,y)$ por $-n$ significa $Q+\\cdots+Q$ siendo $Q=(x,-y)$.\n",
    "\t"
   ]
  },
  {
   "cell_type": "code",
   "execution_count": null,
   "metadata": {
    "tags": []
   },
   "outputs": [],
   "source": [
    "var('x y')\n",
    "dib1=implicit_plot(y^2==x^3+x+1,(x,-1,5),(y,-10,10))\n",
    "dib2=plot((x-1)*(sqrt(31)-sqrt(3))/2+sqrt(3),(x,-1,5),color='green')\n",
    "dib3=plot(-(x-2)*(13/(2*sqrt(11)))-sqrt(11),(x,-1,5),color='red')\n",
    "pretty_print(html('$y^2=x^3+x+1$'))\n",
    "show(dib1+dib2+dib3, figsize=8,aspect_ratio=0.4)"
   ]
  },
  {
   "cell_type": "code",
   "execution_count": null,
   "metadata": {
    "tags": []
   },
   "outputs": [],
   "source": [
    "E23 = EllipticCurve(GF(23),[1,1])\n",
    "show(E23)\n",
    "pretty_print(E23.points())\n",
    "puntos=points( ((0,1),(0 , 22 ), (1 , 7), (1 , 16 ), (3 ,10 ), (3 , 13) , (4 , 0 ), (5 , 4), (5 , 19), (6 , 4), (6 , 19 ), (7 , 11), (7 , 12), (9 , 7 ), (9 , 16 ),(11 , 3 ), (11 , 20), (12 , 4 ), (12 , 19 ), (13 , 7 ),(13 , 16), (17 , 3 ), (17 , 20), (18 , 3), (18 , 20 ),(19 , 5 ), (19 , 18)) ,size=30)\n",
    "show(puntos)\n",
    "curva=implicit_plot(y^2==x^3+x+1,(x,-1,20),(y,-5,30), color=\"red\")\n",
    "show(puntos+curva, figsize=8,aspect_ratio=0.4)"
   ]
  },
  {
   "cell_type": "markdown",
   "metadata": {},
   "source": [
    "#### Defino un curva"
   ]
  },
  {
   "cell_type": "code",
   "execution_count": null,
   "metadata": {
    "tags": []
   },
   "outputs": [],
   "source": [
    "@interact(layout=dict(\n",
    "                      top=[['Primo'],['A','B']]\n",
    "                      )\n",
    "          )\n",
    "          \n",
    "def _(Primo=prime_range(5,1000),A=-1,B=11):\n",
    "    global Ep, a,b,p,puntos\n",
    "    if is_prime(Primo) and mod(4*A**3+27*B**2,Primo)!=0:\n",
    "        a=A\n",
    "        b=B\n",
    "        p=Primo\n",
    "        Ep = EllipticCurve(GF(p),[a,b])\n",
    "        puntos=points(((Ep.points()[i][0],Ep.points()[i][1]) for i in range(len(Ep.points()))),size=30)\n",
    "        cardinal=Ep.cardinality()\n",
    "        primalidadCardinal=is_prime(cardinal)\n",
    "        pretty_print(html('$$%s \\\\pmod{%s}$$'%(latex(Ep),p)))\n",
    "        pretty_print(html('El número de puntos de la curva es %s. ¿Es primo? %s'%(cardinal,primalidadCardinal)))\n",
    "        show(puntos)\n",
    "    elif is_prime(Primo)==False:\n",
    "         pretty_print(html('Error: %s no es primo'%(Primo)))   \n",
    "    else:\n",
    "         pretty_print(html('Error: $4\\\\cdot%s^{3}+27\\\\cdot%s^{2}\\\\equiv 0\\\\mod %s$'%(A,B,Primo)))\n",
    "            \n",
    "            "
   ]
  },
  {
   "cell_type": "markdown",
   "metadata": {},
   "source": [
    "#### Opero con la curva definida"
   ]
  },
  {
   "cell_type": "code",
   "execution_count": null,
   "metadata": {
    "tags": []
   },
   "outputs": [],
   "source": [
    "@interact(layout=dict(\n",
    "                      top=[['P','Q']],\n",
    "                      )\n",
    "          )\n",
    "          \n",
    "def _(P=Ep.points()[1:],Q=Ep.points()[1:]): # La variable de control\n",
    "    pretty_print(html('$$%s \\\\pmod{%s}$$'%(latex(Ep),p)))\n",
    "\n",
    "    x1,y1=Integer(P[0]),Integer(P[1])\n",
    "    x2,y2=Integer(Q[0]),Integer(Q[1])\n",
    "\n",
    "    PQ=P+Q\n",
    "    if PQ[2]==1:\n",
    "        x3,y3 = Integer(PQ[0]), Integer(PQ[1])\n",
    "        puntos_sumados=points( ((x1 , y1 ), (x2 ,y2 ), (x3 , y3 ), (x3 , p-y3 )),size=100, color='black')\n",
    "        punto_suma=points( ((x3 , y3 )), size=200, color='purple')    \n",
    "    else: #punto oo\n",
    "        x3=x1\n",
    "        y3=p+5\n",
    "        puntos_sumados=points( ((x1 , y1 ), (x2 ,y2 ), (x3 , y3 )),size=100, color='black')\n",
    "        punto_suma=points( ((x3 , y3 )), size=200, color='purple')\n",
    "\n",
    "    if mod((x2-x1),p)!=0:\n",
    "        pendiente=Integer(mod((y2-y1)*mod((x2-x1)**(-1),p),p))\n",
    "    else:\n",
    "        pendiente=Integer(mod((3*x1**2+a)*mod((2*y1)**(-1),p),p))\n",
    "    \n",
    "    if pendiente!=0:\n",
    "        h=p/pendiente\n",
    "        x0=x1+(p-y1)/pendiente\n",
    "        \n",
    "        k0=floor(x0/h)\n",
    "        if k0!=(x0/h):\n",
    "            x0=x0-k0*h\n",
    "        else:\n",
    "            x0=h\n",
    "            k0=k0-1\n",
    "        \n",
    "        print('pendiente', pendiente, h, floor(x0/h), x0/h, k0, x0)\n",
    "\n",
    "    else:\n",
    "        x0=p\n",
    "        h=p\n",
    "        k0=0\n",
    "\n",
    "    show(P,'+',Q,'=',PQ)\n",
    "    #pretty_print(html('$y=%s(x-%s)+%s$)'%(pendiente,latex(ft),orden+1)))\n",
    "    #show(y,'=',pendiente*(x-x1)+y1)\n",
    "    pretty_print(html('$$y=%s\\\\;(x-%s)+%s$$'%(pendiente,x1,y1)))\n",
    "\n",
    "    \n",
    "    if PQ[2]==1: \n",
    "        rectas=plot(pendiente*(x-x1)+y1+k0*p,x,0,x0, color='green',linestyle='--')\n",
    "        for k in range(0,max(1,pendiente-1)):\n",
    "            rectas=rectas+plot(pendiente*(x-x1)+y1-(k+1-k0)*p,x,x0+h*(k),x0+h*(k+1), color='green',linestyle='--')\n",
    "    else: #punto oo\n",
    "        rectas=line([(x3 ,0),(x3,p)])    \n",
    "    h2=line([(x3 ,0),(x3,p)], color='red',linestyle='dotted',thickness=3)\n",
    "    \n",
    "    show(puntos+h2+rectas+puntos_sumados+punto_suma)"
   ]
  },
  {
   "cell_type": "raw",
   "metadata": {},
   "source": []
  },
  {
   "cell_type": "markdown",
   "metadata": {
    "execution": {
     "iopub.execute_input": "2021-10-29T10:58:56.421757Z",
     "iopub.status.busy": "2021-10-29T10:58:56.421333Z",
     "iopub.status.idle": "2021-10-29T10:59:06.564224Z",
     "shell.execute_reply": "2021-10-29T10:59:06.561821Z",
     "shell.execute_reply.started": "2021-10-29T10:58:56.421714Z"
    }
   },
   "source": [
    "## <a href=\"#vLD_3.2\" id=\"LD_3.2\"> Teorema de Hasse. Orden de un punto</a>\n",
    "\n",
    "**Teorema de Hasse** \n",
    "\tSea $E(\\mathbb F_q)$ una curva elíptica sobre $\\mathbb F_q$. Entonces\n",
    "\t$$\n",
    "\tq+1-2\\sqrt q\\leq \\vert E(\\mathbb F_q)\\vert \\leq q+1+2\\sqrt q.\n",
    "\t$$\n",
    "\n",
    "**Definicion:**\n",
    "Orden de un punto $P \\in E(\\mathbb F_q)$: $n$ menor entero positivo  tal que $n\\,P={\\cal O}$.\n",
    "\n",
    "**Nota:** El orden de un punto es un divisor del número de puntos de la curva.\n",
    "\n",
    " "
   ]
  },
  {
   "cell_type": "code",
   "execution_count": null,
   "metadata": {
    "tags": []
   },
   "outputs": [],
   "source": [
    "NdeBits=16\n",
    "p=next_probable_prime(randint(2**(NdeBits-1),2**NdeBits))\n",
    "q=Integer(p)\n",
    "print(\"p =\",p)\n",
    "EC = EllipticCurve(GF(q),[1,1])\n",
    "Puntos=EC.points()\n",
    "print('Número de puntos de la curva:', EC.cardinality())\n",
    "print(ceil((q+1-2.*sqrt(q))),'<=',EC.cardinality(),'<=',floor((q+1+2.*sqrt(q))))\n",
    "\n",
    "print('Ordenes posibles:',divisors(EC.cardinality()))\n",
    "if EC.cardinality()<50:\n",
    "    for P in Puntos:\n",
    "        print(P,'Orden:',P.order())\n",
    "else:\n",
    "    for P in Puntos[:100]:\n",
    "        print(P,'Orden:',P.order())\n"
   ]
  },
  {
   "cell_type": "raw",
   "metadata": {},
   "source": []
  },
  {
   "cell_type": "raw",
   "metadata": {},
   "source": []
  },
  {
   "cell_type": "markdown",
   "metadata": {
    "execution": {
     "iopub.execute_input": "2021-10-29T10:58:56.421757Z",
     "iopub.status.busy": "2021-10-29T10:58:56.421333Z",
     "iopub.status.idle": "2021-10-29T10:59:06.564224Z",
     "shell.execute_reply": "2021-10-29T10:59:06.561821Z",
     "shell.execute_reply.started": "2021-10-29T10:58:56.421714Z"
    }
   },
   "source": [
    "## <a href=\"#vLD_3.3\" id=\"LD_3.3\">DH sobre curvas elípticas</a>\n",
    " \n",
    "Sea $E(\\mathbb Z_p)$ un curva elíptica sobre $\\mathbb Z_p$ y $P\\in E(\\mathbb Z_p)$ de orden $n$ suficientemente grande.\n",
    "\n",
    "\n",
    "![ECDH](logaritmo_discreto112x.png)"
   ]
  },
  {
   "cell_type": "markdown",
   "metadata": {
    "tags": []
   },
   "source": [
    "### Curva P-256 $p = 2^{256} − 2^{224} + 2^{192} + 2^{96} − 1$\n",
    "\n",
    "<a href=\"http://nvlpubs.nist.gov/nistpubs/FIPS/NIST.FIPS.186-4.pdf\">http://nvlpubs.nist.gov/nistpubs/FIPS/NIST.FIPS.186-4.pdf</a> Appendix D</h3>"
   ]
  },
  {
   "cell_type": "code",
   "execution_count": null,
   "metadata": {
    "tags": []
   },
   "outputs": [],
   "source": [
    "p =     115792089210356248762697446949407573530086143415290314195533631308867097853951\n",
    "orden = 115792089210356248762697446949407573529996955224135760342422259061068512044369\n",
    "a=-3\n",
    "b = 0x5ac635d8aa3a93e7b3ebbd55769886bc651d06b0cc53b0f63bce3c3e27d2604b\n",
    "Gx=0x6b17d1f2e12c4247f8bce6e563a440f277037d812deb33a0f4a13945d898c296 \n",
    "Gy=0x4fe342e2fe1a7f9b8ee7eb4a7c0f9e162bce33576b315ececbb6406837bf51f5\n",
    "#Defino la curva\n",
    "Zp= Zmod(p)\n",
    "E = EllipticCurve(Zp,[a,b]);\n",
    "# Defino el generador\n",
    "G = E([Gx,Gy])\n",
    "\n",
    "show(html('Curva P-256'))\n",
    "show(html('$y^2=x^3-3\\\\,x + b\\\\mod p$'))\n",
    "show(html('$p=2^{256} − 2^{224} + 2^{192} + 2^{96} − 1=$'+'${}$'.format(p)))\n",
    "show(html('$b={}$'.format(b)))\n",
    "show(html('Generador $G={}$'.format(G)))\n",
    "\n",
    "print('Es el orden primo?',is_prime(orden))\n",
    "print('El generador es de la curva? ', mod(Gy**2,p)==mod(Gx**3+a*Gx+b,p))\n",
    "\n",
    "\n",
    "a=randint(1,orden)\n",
    "b=randint(1,orden)\n",
    "\n",
    "alpha=a*G\n",
    "beta=b*G\n",
    "show(html('Alicia envía $\\\\alpha={}$'.format(alpha)))\n",
    "show(html('Benito envía $\\\\beta={}$'.format(beta)))\n",
    "\n",
    "delta_a=a*beta\n",
    "delta_b=b*alpha\n",
    "\n",
    "print('Han llegado al mismo secreto?',delta_a==delta_b)\n",
    "print(delta_a)"
   ]
  },
  {
   "cell_type": "raw",
   "metadata": {},
   "source": []
  },
  {
   "cell_type": "markdown",
   "metadata": {
    "execution": {
     "iopub.execute_input": "2022-11-11T09:17:28.663603Z",
     "iopub.status.busy": "2022-11-11T09:17:28.663071Z",
     "iopub.status.idle": "2022-11-11T09:17:28.671223Z",
     "shell.execute_reply": "2022-11-11T09:17:28.670525Z",
     "shell.execute_reply.started": "2022-11-11T09:17:28.663557Z"
    }
   },
   "source": [
    "## <a href=\"#vLD_3.4\" id=\"LD_3.4\">ECDSA</a>\n",
    " \n",
    " [FIPS 186-5 Digital Signature Standard (DSS)](https://csrc.nist.gov/pubs/fips/186-5/final).\n",
    "\n",
    "### **Generación de claves**\n",
    "\n",
    "Cada usuario realiza los siguientes pasos:\n",
    "\n",
    "* Elige una curva elíptica sobre $\\mathbb Z_p$, $E(\\mathbb Z_p)$.\n",
    "* Elige $G\\in E(\\mathbb Z_p)$ de orden $n$ grande.\n",
    "* Elige $d\\in[2,n-1]$ aleatorio.\n",
    "* Calcula $Q=d\\,G$.\n",
    "* La clave pública es $\\{E(\\mathbb Z_p),G,n,Q\\}$,\n",
    "* La clave privada es $d$.\n",
    "\n",
    "### **Firma**\n",
    "\n",
    "Para firmar un mensaje $m$ se realizan los siguientes pasos:\n",
    "\n",
    "* Elige $k\\in[2,n-1]$ aleatorio.¹\n",
    "* Calcula $k\\,G=(x_1,y_1)$ y $f_1=x_1\\text{ mod } n$. Si $f_1=0$ se elige otro $k$.²\n",
    "* Calcula $k^{-1} \\text{ mod } n$.\n",
    "* Calcula $f_2=k^{-1}(SHA(m)+f_1\\, d) \\text{ mod } n$. Si $f_2=0$ se toma otro $k$.\n",
    "* La firma es el par $(f_1,f_2)$.\n",
    "\n",
    "[¹] Sony PS3 Security Broken. PS3 Epic Fail\n",
    "https://events.ccc.de/congress/2010/Fahrplan/events/4087.en.html\n",
    "https://fahrplan.events.ccc.de/congress/2010/Fahrplan/attachments/1780_27c3_console_hacking_2010.pdf\n",
    "\n",
    "\n",
    "[²] https://arstechnica.com/information-technology/2022/04/major-crypto-blunder-in-java-enables-psychic-paper-forgeries\n",
    "\n",
    "### **Verificación de la firma**\n",
    "\n",
    "Para verificar que la firma $(f_1,f_2)$ del mensaje $m$\n",
    "es de A se realizan los siguientes pasos:\n",
    "\n",
    "* Se busca la clave pública de A, $\\{E(\\mathbb Z_p),G,n,Q\\}$.\n",
    "* Calcula $w=f_2^{-1} \\text{ mod } n$.\n",
    "* Calcula $u_1=SHA(m)\\ w \\text{ mod } n$.\n",
    "* Calcula $u_2=f_1\\ w \\text{ mod } n$.\n",
    "* Calcula $u_1 G+u_2 Q=(x_0,y_0)$ y $v=x_0 \\text{ mod } n$.\n",
    "* La firma es válida si $v=f_1$.\n"
   ]
  },
  {
   "cell_type": "markdown",
   "metadata": {},
   "source": [
    "\n",
    "**Curva p-256:**  $p=2^{256}-2^{224}+2^{192}+2^{96}-1$\n",
    "\n",
    "[NIST SP 800-186 Recommendations for Discrete Logarithm-based Cryptography](https://nvlpubs.nist.gov/nistpubs/SpecialPublications/NIST.SP.800-186.pdf)\n",
    "*Sección 3.2.1.3.*\n"
   ]
  },
  {
   "cell_type": "code",
   "execution_count": null,
   "metadata": {
    "tags": []
   },
   "outputs": [],
   "source": [
    "p =     115792089210356248762697446949407573530086143415290314195533631308867097853951\n",
    "orden = 115792089210356248762697446949407573529996955224135760342422259061068512044369\n",
    "a=-3\n",
    "b = 0x5ac635d8aa3a93e7b3ebbd55769886bc651d06b0cc53b0f63bce3c3e27d2604b\n",
    "Gx=0x6b17d1f2e12c4247f8bce6e563a440f277037d812deb33a0f4a13945d898c296\n",
    "Gy=0x4fe342e2fe1a7f9b8ee7eb4a7c0f9e162bce33576b315ececbb6406837bf51f5\n",
    "#Defino la curva\n",
    "Zp= Zmod(p)\n",
    "E = EllipticCurve(Zp,[a,b]);\n",
    "# Defino el generador\n",
    "G = E([Gx,Gy])\n",
    "\n",
    "show(html('Curva P-256'))\n",
    "show(html('$y^2=x^3-3\\\\,x + b\\\\mod p$'))\n",
    "show(html('$p=2^{256} − 2^{224} + 2^{192} + 2^{96} − 1=$'+'${}$'.format(p)))\n",
    "show(html('$b={}$'.format(b)))\n",
    "show(html('Generador $G={}$'.format(G)))\n",
    "\n",
    "\n",
    "'''\n",
    "Generación de claves\n",
    "'''\n",
    "d = randint(2, orden-1)\n",
    "Q = d*G\n",
    "\n",
    "show(html('Clave Pública Curva P-256 $Q={}$'.format(Q)))\n",
    "show(html('Clave privada $d={}$'.format(d)))\n",
    "\n",
    "'''\n",
    "Firma\n",
    "'''\n",
    "\n",
    "def firma_aux(m,k):\n",
    "    P_aux = k*G\n",
    "    f1 = Integer(mod(P_aux[0], orden))\n",
    "    f2 = Integer(mod(power_mod(k, -1, orden)*(m+f1*d), orden))\n",
    "    return f1, f2\n",
    "\n",
    "m = randint(0, orden-1)\n",
    "k = randint(2, orden-1)\n",
    "f1, f2 = firma_aux(m,k)\n",
    "while f1*f2 == 0:\n",
    "    k = randint(2, orden-1)\n",
    "    f1, f2 = firma_aux(m,k)\n",
    "show(html('Firma \\n$f_1={}$ \\n$f_2={}$'.format(f1, f2)))\n",
    "        \n",
    "'''\n",
    "Verificación firma\n",
    "'''\n",
    "w = Integer(power_mod(f2, -1, orden))\n",
    "u1 = Integer(mod(m*w, orden))\n",
    "u2 = Integer(mod(f1*w, orden))\n",
    "P_aux = u1*G + u2*Q\n",
    "v = Integer(mod(P_aux[0], orden))\n",
    "\n",
    "verificacion = v==f1\n",
    "show(html('Es válida la firma? {}'.format(verificacion)))\n"
   ]
  },
  {
   "cell_type": "markdown",
   "metadata": {
    "tags": []
   },
   "source": [
    "\n",
    "\n",
    "[**Curva p-256:**  $p=2^{256}-2^{224}+2^{192}+2^{96}-1$\n",
    "\n",
    "[NIST SP 800-186 Recommendations for Discrete Logarithm-based Cryptography](https://nvlpubs.nist.gov/nistpubs/SpecialPublications/NIST.SP.800-186.pdf)\n",
    "*Sección 3.2.1.3.*\n",
    "\n",
    "Curva pseudo aleatoria $y^2 = x^3 - 3x + b \\text{ mod } p$:\n",
    "\n",
    "* primo $p$ 115792089210356248762697446949407573530086143415290314195533631308867097853951\n",
    "* orden $r$ 115792089210356248762697446949407573529996955224135760342422259061068512044369\n",
    "* cofactor $h=1$\n",
    "* semilla de 160 bits usada para generar el coeficiente $b$,   $semilla$=0xc49d360886e704936a6678e1139d26b7819f7e90\n",
    "* parámetro $c$ del algoritmo usado para generar el coeficiente\n",
    "  $b$, $c$=0x7efba1662985be9403cb055c75d4f7e0ce8d84a9c5114abcaf3177680104fa0d\n",
    "* coeficiente $b$ que satisface $b^2c\\equiv -27 \\text{ mod } p$, $b$=0x5ac635d8aa3a93e7b3ebbd55769886bc651d06b0cc53b0f63bce3c3e27d2604b,\n",
    "* punto $G=(G_x,G_y)$ de orden $n=\\frac{r}{h}$\n",
    "  $G_x$=0x6b17d1f2e12c4247f8bce6e563a440f277037d812deb33a0f4a13945d898c296,  $G_y$=0x4fe342e2fe1a7f9b8ee7eb4a7c0f9e162bce33576b315ececbb6406837bf51f5\n",
    "\n",
    "$p$ y $r$ están en decimal, el resto en hexadecimal.\n",
    "\n",
    "### **ECDSA: Generación de una curva aleatoria**\n",
    "\n",
    "\n",
    "* **Input** $p$, primo impar.\n",
    "* **Output** cadena binaria $semilla$ de 160 o más bits, $a,\\ b\\in \\mathbb{Z}_p$ que definen una curva elíptica sobre $\\mathbb{Z}_p$.\n",
    "    1. Sean $t=\\lceil \\log_2 p\\rceil$, $s=\\lfloor (t -1)/160\\rfloor$, $v = t-160 s$.\n",
    "    1. Elegir  $semilla$ aleatorio de longitud $g\\geq 160$. \n",
    "    1. Calcular $H$ = SHA($semilla$) y sea $c_0$ la cadena de los $v$ bits menos significativos de $H$ ($v$ *rightmost bits*).\n",
    "    1. Sea $W_0$ la cadena de $v$ bits obtenidos haciendo 0 el bit más significativo (*leftmost*) de $c_0$. (Así nos aseguramos que $c<p$.)\n",
    "    1. Sea $z$ el entero cuya expesión en binario es $semilla$.\n",
    "    1. Para $i$ desde 1 hasta $s$:\n",
    "        - Sea $s_i$ la expresión binaria del entero $(z + i) \\text{ mod } 2^g$.\n",
    "        - Calcular $W_i$ = SHA($s_i$).\n",
    "    1. Sea $W=W_0\\|W_1\\|\\cdots\\|W_s$.\n",
    "    1. Sea $c$ entero que tiene por representación binaria $W$.\n",
    "    1. Si $c=0$ o $4c+27\\equiv 0 \\text{ mod } p$ volver al punto 2.\n",
    "    1. Elegir $a,\\ b\\in \\mathbb{Z}^*_p$, tales que\n",
    "        $b^2c \\equiv a^3\\text{ mod } p$.\n",
    "* **Salida** $semilla$, $a$, $b$.\n",
    "\n",
    "### **ECDSA: Verificación de una curva**\n",
    "\n",
    "Dada una curva elíptica es conveniente comprobar que los parámetros son correctos.\n",
    "\n",
    "1. Verificar que $p$ es un primo impar.\n",
    "1. Verificar que $G$ no es el punto del infinito ${\\cal O}$.\n",
    "1. Verificar que $a$, $b$, $G_x$ y $G_y$ son enteros en el intervalo $[0,p-1]$.\n",
    "1. Según el caso, verificar que la curva se ha obtenido aleatoriamente.\n",
    "1. Verificar que $a$ y $b$ definen una curva elíptica sobre $\\mathbb{Z}_p$, $4a^3+27b^2\\not\\equiv 0 \\text{ mod } p$.\n",
    "1. Verificar que $G$ pertenece a la curva,\n",
    "    $G_y^2\\equiv G_x^3+a\\,G_x+b \\text{ mod } p$\n",
    "1. Verificar que $r=n\\,h$.\n",
    "1. Verificar que $n$ es primo.\n",
    "1. Verificar $n\\,G={\\cal O}$.\n",
    "1. Verificar que $n> 2^{160}$ y $n > 4 \\sqrt{p}$.\n",
    "1. Comprobar que $h=\\lfloor (\\sqrt{p}+1)^2/n \\rfloor$.\n",
    "1. Verificar que $n$ no divide $p^k-1$, $1\\leq k\\leq 20$.\n",
    "1. Verificar que $n\\neq p$.\n",
    "\n",
    "\n",
    "Los item 9, 10 y 11 permiten\n",
    "comprobar que el número de puntos de la curva es el correcto.\n",
    "\n",
    "\n",
    "### **ECDSA: Verificación de una clave ECDSA**\n",
    "\n",
    "\n",
    "\n",
    "Dada una clave ECDSA (un punto $Q$ de la curva) es conveniente comprobar es correcta.\n",
    "\n",
    "* Verificar que $Q$ no es el punto del infinito ${\\cal O}$.\n",
    "* Verificar que $Q_x$ y $Q_y$ son enteros en el intervalo $[0,p-1]$.\n",
    "* Verificar que $Q$ pertenece a la curva,\n",
    "    $Q_y^2\\equiv Q_x^3+a\\,Q_x+b \\text{ mod } p$\n",
    "* Verificar $n\\,Q={\\cal O}$.\n",
    "\n",
    "\n"
   ]
  },
  {
   "cell_type": "markdown",
   "metadata": {},
   "source": [
    "**Reducción módulos especiales**, p.e. $p=2^{192}-2^{64}-1$\n",
    "\n",
    "[NIST SP 800-186 Recommendations for Discrete Logarithm-based Cryptography](https://nvlpubs.nist.gov/nistpubs/SpecialPublications/NIST.SP.800-186.pdf)\n",
    "*Appendix G.Implementation Aspects.*\n",
    "\n",
    "  Si $x<p^2$, $x=x_5 2^{320}+x_4 2^{256}+x_3 2^{192}+x_2 2^{128}+x_1 2^{64}+x_0$,   siendo $x_i<2^{64}$.\n",
    "\n",
    "  Teniendo en cuenta\n",
    "  \\begin{eqnarray*}\n",
    "  2^{192} &\\equiv& 2^{64} +1 \\mod p\\\\\n",
    "  2^{256} &\\equiv& 2^{128}+2^{64}  \\mod p\\\\\n",
    "  2^{320} &\\equiv& 2^{192}+2^{128}  \\mod p\n",
    "  \\end{eqnarray*}\n",
    "  tenemos\n",
    "  \\begin{eqnarray*}\n",
    "    x &\\equiv& x_4 2^{256}+(x_5+x_3) 2^{192}+(x_5+x_2) 2^{128}+x_1 2^{64}+x_0 \\mod p\\\\\n",
    "    x &\\equiv& (x_5+x_3) 2^{192}+(x_5+x_4+x_2) 2^{128}+(x_4+x_1) 2^{64}+x_0 \\mod p\\\\\n",
    "    x &\\equiv& (x_5+x_4+x_2) 2^{128}+(x_5+x_4+x_3+x_1) 2^{64}+x_5+x_3+x_0 \\mod p\n",
    "  \\end{eqnarray*}\n",
    "  \n",
    "  Si fuera necesario, $x \\equiv p-(x_5+x_4+x_2) 2^{128}+(x_5+x_4+x_3+x_1) 2^{64}+x_5+x_3+x_0 \\mod p$"
   ]
  },
  {
   "cell_type": "raw",
   "metadata": {},
   "source": []
  },
  {
   "cell_type": "raw",
   "metadata": {},
   "source": []
  },
  {
   "cell_type": "markdown",
   "metadata": {
    "execution": {
     "iopub.execute_input": "2021-10-29T10:58:56.421757Z",
     "iopub.status.busy": "2021-10-29T10:58:56.421333Z",
     "iopub.status.idle": "2021-10-29T10:59:06.564224Z",
     "shell.execute_reply": "2021-10-29T10:59:06.561821Z",
     "shell.execute_reply.started": "2021-10-29T10:58:56.421714Z"
    }
   },
   "source": [
    "## <a href=\"#vLD_3.5\" id=\"LD_3.5\">Seguridad</a>\n",
    "\n",
    "La seguridad se basa en la dificultad de calcular el logaritmo discreto\n",
    "en curvas elípticas que en este caso se puede enunciar:\n",
    "\n",
    "Dados $E(\\mathbb Z_p)$, $Q$, $P\\in E(\\mathbb Z_p)$ hallar $k$, entero positivo, tal\n",
    "que \n",
    "$$\n",
    "k\\,P=Q.\n",
    "$$\n",
    "\n",
    "Este problema no es tan fácil como en $\\mathbb Z_p^*$.\n",
    "\n",
    "                                                                     "
   ]
  },
  {
   "cell_type": "markdown",
   "metadata": {
    "execution": {
     "iopub.execute_input": "2021-11-11T17:41:11.106423Z",
     "iopub.status.busy": "2021-11-11T17:41:11.106043Z",
     "iopub.status.idle": "2021-11-11T17:41:11.110637Z",
     "shell.execute_reply": "2021-11-11T17:41:11.110049Z",
     "shell.execute_reply.started": "2021-11-11T17:41:11.106384Z"
    }
   },
   "source": [
    "### Baby-step, Giant-step\n"
   ]
  },
  {
   "cell_type": "code",
   "execution_count": null,
   "metadata": {
    "tags": []
   },
   "outputs": [],
   "source": [
    "p=211\n",
    "E = EllipticCurve(GF(211),[1,1])\n",
    "E.points()\n",
    "n=E.cardinality()\n",
    "\n",
    "Alpha=E.points()[3] #generador\n",
    "M=ceil(sqrt(n-1)); \n",
    "gM=(n-M)*Alpha; \n",
    "Tabla=[[i*Alpha,i] for i in range(0,M)]; \n",
    "Tabla_ordenada=sorted(Tabla, key=lambda coordenada: coordenada[0][0])\n",
    "\n",
    "show(html('Curva'))\n",
    "show(html('$y^2=x^3-x + 1\\\\mod {}$'.format(p)))\n",
    "show(html('Generador $G={}$'.format(Alpha)))\n",
    "\n",
    "\n",
    "print (\"El orden es\",n)\n",
    "print('El orden es primo:', is_prime(n))\n",
    "\n",
    "#print M;\n",
    "#print range(0,M)\n",
    "print (\"\\nTabla construida:  \", Tabla,\"\\n\")\n",
    "print (\"\\nTabla de búsqueda: \\n\", Tabla_ordenada,\"\\n\")\n",
    "\n",
    "Beta=E.points()[55] #punto del que queremos calcular el logaritmo discreto\n",
    "print( \"Elemento del que queremos calcular LD: \",Beta,\"\\n\")\n",
    "\n",
    "Gamma=Beta;\n",
    "\n",
    "#t1=walltime();\n",
    "fin=False;\n",
    "i=0;\n",
    "while i in range(0,M) and not(fin):\n",
    "    print (i,\" Punto buscado en la tabla: \",Gamma)\n",
    "    for j in range(0,M):\n",
    "        if Gamma==Tabla[j][0]:\n",
    "            x=i*M+j;\n",
    "            print (\"\\nLogaritmo Discreto de\",Beta,\"en base\",Alpha, \"es:\",i,\"*\",M,\"+\",j,\"=\",x)\n",
    "            show(x,\"*\",Alpha,\"=\",x*Alpha,\"==\",Beta, Beta==x*Alpha)\n",
    "            #print(walltime(t1));\n",
    "            fin=True;\n",
    "            break;\n",
    "    Gamma=Gamma+gM;\n",
    "    i=i+1;        \n",
    "#print(walltime(t1));"
   ]
  },
  {
   "cell_type": "raw",
   "metadata": {},
   "source": []
  }
 ],
 "metadata": {
  "kernelspec": {
   "display_name": "SageMath 9.4",
   "language": "sage",
   "name": "sagemath"
  },
  "language_info": {
   "codemirror_mode": {
    "name": "ipython",
    "version": 3
   },
   "file_extension": ".py",
   "mimetype": "text/x-python",
   "name": "python",
   "nbconvert_exporter": "python",
   "pygments_lexer": "ipython3",
   "version": "3.9.5"
  },
  "toc-autonumbering": true,
  "toc-showcode": false,
  "toc-showmarkdowntxt": false,
  "widgets": {
   "application/vnd.jupyter.widget-state+json": {
    "state": {},
    "version_major": 2,
    "version_minor": 0
   }
  }
 },
 "nbformat": 4,
 "nbformat_minor": 4
}
