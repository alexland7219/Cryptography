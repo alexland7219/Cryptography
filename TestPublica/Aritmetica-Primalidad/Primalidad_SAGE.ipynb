{
 "cells": [
  {
   "cell_type": "markdown",
   "metadata": {},
   "source": [
    "# Primalidad\n",
    "\n",
    "El objetivo es obtener un método eficiente para decidir si un entero es primo o no. (En realidad, *probablemente primo*.) \n",
    "\n",
    "Buscaremos condiciones necesarias para que un entero sea primo.\n",
    "\n",
    "* <a href=\"#generadores\" id=\"igeneradores\">Generadores (raíces primitivas)</a>\n",
    "* <a href=\"#pp\" id=\"ipp\">Pseudoprimos (pp)</a>\n",
    "* <a href=\"#ppf\" id=\"ippf\">Pseudoprimos fuertes (ppf). Test de Miller Rabin</a>\n",
    "* <a href=\"#test\" id=\"itest\">Test de primalidad</a>\n",
    "\n",
    "---"
   ]
  },
  {
   "cell_type": "markdown",
   "metadata": {
    "execution": {
     "iopub.execute_input": "2021-10-25T10:49:36.390043Z",
     "iopub.status.busy": "2021-10-25T10:49:36.389312Z",
     "iopub.status.idle": "2021-10-25T10:49:36.398836Z",
     "shell.execute_reply": "2021-10-25T10:49:36.396703Z",
     "shell.execute_reply.started": "2021-10-25T10:49:36.389985Z"
    }
   },
   "source": [
    "### Primalidad versus factorización"
   ]
  },
  {
   "cell_type": "code",
   "execution_count": 2,
   "metadata": {
    "tags": []
   },
   "outputs": [],
   "source": [
    "from IPython.display import display, Latex\n",
    "\n",
    "'''\n",
    "Funciones auxiliares\n",
    "'''\n",
    "\n",
    "def primo_2q1(bits):\n",
    "    '''\n",
    "    Devuelve un primo p de la forma 2*q+1 siendo q primo también\n",
    "    '''\n",
    "    q = next_probable_prime(randint(2**(bits-1), 2**bits))\n",
    "    p = 2*q+1\n",
    "\n",
    "    while is_prime(p) == False:\n",
    "        q = next_probable_prime(randint(2**(bits-1), 2**bits))\n",
    "        p = 2*q + 1\n",
    "    return p\n",
    "\n",
    "def contar_bases_pp(n):\n",
    "    b = 1\n",
    "    pseudoSI = pseudoNO = 0\n",
    "\n",
    "    while b<n:\n",
    "        while(gcd(n, b) != 1):\n",
    "            b = b+1\n",
    "        aux = pow(b,n-1,n)\n",
    "        if aux == 1:\n",
    "            pseudoSI = pseudoSI+1\n",
    "        else:\n",
    "            pseudoNO = pseudoNO+1\n",
    "        b = b+1\n",
    "    show(html('{0} SÍ es pseudoprimo en {1} bases'.format(n,pseudoSI)))\n",
    "    show(html('{0} NO es pseudoprimo en {1} bases'.format(n,pseudoNO)))\n"
   ]
  },
  {
   "cell_type": "code",
   "execution_count": null,
   "metadata": {
    "tags": []
   },
   "outputs": [],
   "source": [
    "NumerodDeBits = 1024*4\n",
    "for _ in range(5):\n",
    "    r1 = randint(0, 2^(NumerodDeBits/2))\n",
    "    r2 = randint(0, 2^(NumerodDeBits/2))\n",
    "    print(\"Generar primos\", NumerodDeBits/2, \"bits\")\n",
    "    t0 = cputime()\n",
    "    p1 = next_probable_prime(r1)\n",
    "    print(\"Tiempo para generar p: \", cputime()-t0, flush=True)\n",
    "    t0 = cputime()\n",
    "    p2 = next_probable_prime(r2)\n",
    "    print(\"Tiempo para generar q: \", cputime()-t0, flush=True)\n",
    "    n = p1*p2\n",
    "    r3 = randint(0, 2^NumerodDeBits)\n",
    "    print(\"Generar primo\", NumerodDeBits, \"bits\")\n",
    "    t0 = cputime()\n",
    "    p3 = next_probable_prime(r3)\n",
    "    print(\"Tiempo para generar primo de\", NumerodDeBits, \"bits: \", cputime()-t0, flush=True)\n",
    "    proof.arithmetic(False)\n",
    "    print(\"Comprobar si compuesto/primo\", NumerodDeBits, \"bits\")\n",
    "    t0 = cputime()\n",
    "    is_prime(n)\n",
    "    print(\"Tiempo para entero compuesto de\", NumerodDeBits, \"bits: \", cputime()-t0, flush=True)\n",
    "    t0 = cputime()\n",
    "    is_prime(p3)\n",
    "    print(\"Tiempo para primo de\", NumerodDeBits, \"bits: \", cputime()-t0, flush=True)\n",
    "    print()\n"
   ]
  },
  {
   "cell_type": "markdown",
   "metadata": {},
   "source": [
    "### Tiempos de factorización\n",
    "#### n=p*q\n",
    "#### p,q~$2^{50} \\text{ tarda }0,05s$\n",
    "#### p,q~$2^{100} \\text{ tarda }6 s$\n",
    "#### p,q~$2^{110} \\text{ tarda } 25s$ \n",
    "#### p,q~$2^{120} \\text{ tarda }  75-115s$"
   ]
  },
  {
   "cell_type": "code",
   "execution_count": null,
   "metadata": {
    "tags": []
   },
   "outputs": [],
   "source": [
    "bits = 100\n",
    "limite = 2^bits\n",
    "for _ in range(5):\n",
    "    r1 = randint(0, limite)\n",
    "    r2 = randint(0, limite)\n",
    "\n",
    "    p1 = next_probable_prime(r1)\n",
    "    p2 = next_probable_prime(r2)\n",
    "    n = p1*p2\n",
    "\n",
    "    t0 = cputime()\n",
    "    aux = factor(n)\n",
    "    print(\"Factorización:\", aux)\n",
    "    print(\"Tiempo=\", cputime()-t0)\n",
    "    print()"
   ]
  },
  {
   "cell_type": "raw",
   "metadata": {},
   "source": []
  },
  {
   "cell_type": "markdown",
   "metadata": {},
   "source": [
    "## <a href=\"#igeneradores\" id=\"generadores\"> Generadores (raíces primitivas)</a>\n",
    "\n",
    "**Definición.**  Sea $a\\in\\mathbb Z_n^*$, diremos que $r$ es el \n",
    "orden de $a$ módulo $n$ si es el menor entero positivo tal que\n",
    "$$\n",
    "a^r\\equiv 1\\mod n\n",
    "$$\n",
    "\n",
    "\n",
    "**Obsevación:** $r\\vert \\varphi(n)$.\n",
    "\n",
    "**Definición.**  $g\\in\\mathbb Z_n^*$ es `generador` de $Z_n^*$ si su orden es $\\varphi(n)$.\n",
    "\n",
    "**Observaciones:**\n",
    "* Si $p$ es primo existe $g$, generador de $\\mathbb Z_p^*=\\{1,2,\\ldots,p-1\\}$, tal que  $$\\mathbb Z_p^*=\\{g^1,g^2,\\ldots,\\underbrace{g^{p-1}}_{=1}\\}$$\n",
    "* Hay $\\varphi(p-1)$ generadores o raíces primitivas módulo $p$.\n",
    "* $\\mathbb Z_n^*$ tiene generadores si y solamente si $n=2, 4, p^k, 2p^k$, $p$ primo impar. El número de generadores es $\\varphi(\\varphi(n))$.\n",
    "* Sea $g$, generador de $\\mathbb Z_n^*$. Entonces $g^r$ es generador si y solamente si $\\gcd(r,\\varphi(n))=1$.\n",
    "\n"
   ]
  },
  {
   "cell_type": "markdown",
   "metadata": {},
   "source": [
    ">###  Ejemplo \n",
    ">\n",
    ">$p=2q+1$, $p$, $q$ primos\n",
    ">\n",
    "> Hallemos el orden de distinto elementos\n"
   ]
  },
  {
   "cell_type": "code",
   "execution_count": 3,
   "metadata": {
    "tags": []
   },
   "outputs": [
    {
     "name": "stdout",
     "output_type": "stream",
     "text": [
      "\n"
     ]
    },
    {
     "data": {
      "text/latex": [
       "$p=24824564899723488539=2*12412282449861744269+1$"
      ],
      "text/plain": [
       "<IPython.core.display.Latex object>"
      ]
     },
     "metadata": {},
     "output_type": "display_data"
    },
    {
     "name": "stdout",
     "output_type": "stream",
     "text": [
      "\n"
     ]
    },
    {
     "data": {
      "text/latex": [
       "Los órdenes posibles son: (1, 2, 12412282449861744269, 24824564899723488538)"
      ],
      "text/plain": [
       "<IPython.core.display.Latex object>"
      ]
     },
     "metadata": {},
     "output_type": "display_data"
    },
    {
     "data": {
      "text/html": [
       "<br></br>Base: 2"
      ],
      "text/plain": [
       "<br></br>Base: 2"
      ]
     },
     "metadata": {},
     "output_type": "display_data"
    },
    {
     "data": {
      "text/latex": [
       "$2^{1}\\equiv 2 \\mod 24824564899723488539$"
      ],
      "text/plain": [
       "<IPython.core.display.Latex object>"
      ]
     },
     "metadata": {},
     "output_type": "display_data"
    },
    {
     "data": {
      "text/latex": [
       "$2^{2}\\equiv 4 \\mod 24824564899723488539$"
      ],
      "text/plain": [
       "<IPython.core.display.Latex object>"
      ]
     },
     "metadata": {},
     "output_type": "display_data"
    },
    {
     "data": {
      "text/latex": [
       "$2^{12412282449861744269}\\equiv 24824564899723488538 \\mod 24824564899723488539$"
      ],
      "text/plain": [
       "<IPython.core.display.Latex object>"
      ]
     },
     "metadata": {},
     "output_type": "display_data"
    },
    {
     "data": {
      "text/latex": [
       "$2^{24824564899723488538}\\equiv 1 \\mod 24824564899723488539$"
      ],
      "text/plain": [
       "<IPython.core.display.Latex object>"
      ]
     },
     "metadata": {},
     "output_type": "display_data"
    },
    {
     "data": {
      "text/html": [
       "<br></br>Base: 3"
      ],
      "text/plain": [
       "<br></br>Base: 3"
      ]
     },
     "metadata": {},
     "output_type": "display_data"
    },
    {
     "data": {
      "text/latex": [
       "$3^{1}\\equiv 3 \\mod 24824564899723488539$"
      ],
      "text/plain": [
       "<IPython.core.display.Latex object>"
      ]
     },
     "metadata": {},
     "output_type": "display_data"
    },
    {
     "data": {
      "text/latex": [
       "$3^{2}\\equiv 9 \\mod 24824564899723488539$"
      ],
      "text/plain": [
       "<IPython.core.display.Latex object>"
      ]
     },
     "metadata": {},
     "output_type": "display_data"
    },
    {
     "data": {
      "text/latex": [
       "$3^{12412282449861744269}\\equiv 1 \\mod 24824564899723488539$"
      ],
      "text/plain": [
       "<IPython.core.display.Latex object>"
      ]
     },
     "metadata": {},
     "output_type": "display_data"
    },
    {
     "data": {
      "text/latex": [
       "$3^{24824564899723488538}\\equiv 1 \\mod 24824564899723488539$"
      ],
      "text/plain": [
       "<IPython.core.display.Latex object>"
      ]
     },
     "metadata": {},
     "output_type": "display_data"
    },
    {
     "data": {
      "text/html": [
       "<br></br>Base: 4"
      ],
      "text/plain": [
       "<br></br>Base: 4"
      ]
     },
     "metadata": {},
     "output_type": "display_data"
    },
    {
     "data": {
      "text/latex": [
       "$4^{1}\\equiv 4 \\mod 24824564899723488539$"
      ],
      "text/plain": [
       "<IPython.core.display.Latex object>"
      ]
     },
     "metadata": {},
     "output_type": "display_data"
    },
    {
     "data": {
      "text/latex": [
       "$4^{2}\\equiv 16 \\mod 24824564899723488539$"
      ],
      "text/plain": [
       "<IPython.core.display.Latex object>"
      ]
     },
     "metadata": {},
     "output_type": "display_data"
    },
    {
     "data": {
      "text/latex": [
       "$4^{12412282449861744269}\\equiv 1 \\mod 24824564899723488539$"
      ],
      "text/plain": [
       "<IPython.core.display.Latex object>"
      ]
     },
     "metadata": {},
     "output_type": "display_data"
    },
    {
     "data": {
      "text/latex": [
       "$4^{24824564899723488538}\\equiv 1 \\mod 24824564899723488539$"
      ],
      "text/plain": [
       "<IPython.core.display.Latex object>"
      ]
     },
     "metadata": {},
     "output_type": "display_data"
    },
    {
     "data": {
      "text/html": [
       "<br></br>Base: 5"
      ],
      "text/plain": [
       "<br></br>Base: 5"
      ]
     },
     "metadata": {},
     "output_type": "display_data"
    },
    {
     "data": {
      "text/latex": [
       "$5^{1}\\equiv 5 \\mod 24824564899723488539$"
      ],
      "text/plain": [
       "<IPython.core.display.Latex object>"
      ]
     },
     "metadata": {},
     "output_type": "display_data"
    },
    {
     "data": {
      "text/latex": [
       "$5^{2}\\equiv 25 \\mod 24824564899723488539$"
      ],
      "text/plain": [
       "<IPython.core.display.Latex object>"
      ]
     },
     "metadata": {},
     "output_type": "display_data"
    },
    {
     "data": {
      "text/latex": [
       "$5^{12412282449861744269}\\equiv 1 \\mod 24824564899723488539$"
      ],
      "text/plain": [
       "<IPython.core.display.Latex object>"
      ]
     },
     "metadata": {},
     "output_type": "display_data"
    },
    {
     "data": {
      "text/latex": [
       "$5^{24824564899723488538}\\equiv 1 \\mod 24824564899723488539$"
      ],
      "text/plain": [
       "<IPython.core.display.Latex object>"
      ]
     },
     "metadata": {},
     "output_type": "display_data"
    },
    {
     "data": {
      "text/html": [
       "<br></br>Base: 8"
      ],
      "text/plain": [
       "<br></br>Base: 8"
      ]
     },
     "metadata": {},
     "output_type": "display_data"
    },
    {
     "data": {
      "text/latex": [
       "$8^{1}\\equiv 8 \\mod 24824564899723488539$"
      ],
      "text/plain": [
       "<IPython.core.display.Latex object>"
      ]
     },
     "metadata": {},
     "output_type": "display_data"
    },
    {
     "data": {
      "text/latex": [
       "$8^{2}\\equiv 64 \\mod 24824564899723488539$"
      ],
      "text/plain": [
       "<IPython.core.display.Latex object>"
      ]
     },
     "metadata": {},
     "output_type": "display_data"
    },
    {
     "data": {
      "text/latex": [
       "$8^{12412282449861744269}\\equiv 24824564899723488538 \\mod 24824564899723488539$"
      ],
      "text/plain": [
       "<IPython.core.display.Latex object>"
      ]
     },
     "metadata": {},
     "output_type": "display_data"
    },
    {
     "data": {
      "text/latex": [
       "$8^{24824564899723488538}\\equiv 1 \\mod 24824564899723488539$"
      ],
      "text/plain": [
       "<IPython.core.display.Latex object>"
      ]
     },
     "metadata": {},
     "output_type": "display_data"
    },
    {
     "data": {
      "text/html": [
       "<br></br>Base: 24824564899723488538"
      ],
      "text/plain": [
       "<br></br>Base: 24824564899723488538"
      ]
     },
     "metadata": {},
     "output_type": "display_data"
    },
    {
     "data": {
      "text/latex": [
       "$24824564899723488538^{1}\\equiv 24824564899723488538 \\mod 24824564899723488539$"
      ],
      "text/plain": [
       "<IPython.core.display.Latex object>"
      ]
     },
     "metadata": {},
     "output_type": "display_data"
    },
    {
     "data": {
      "text/latex": [
       "$24824564899723488538^{2}\\equiv 1 \\mod 24824564899723488539$"
      ],
      "text/plain": [
       "<IPython.core.display.Latex object>"
      ]
     },
     "metadata": {},
     "output_type": "display_data"
    },
    {
     "data": {
      "text/latex": [
       "$24824564899723488538^{12412282449861744269}\\equiv 24824564899723488538 \\mod 24824564899723488539$"
      ],
      "text/plain": [
       "<IPython.core.display.Latex object>"
      ]
     },
     "metadata": {},
     "output_type": "display_data"
    },
    {
     "data": {
      "text/latex": [
       "$24824564899723488538^{24824564899723488538}\\equiv 1 \\mod 24824564899723488539$"
      ],
      "text/plain": [
       "<IPython.core.display.Latex object>"
      ]
     },
     "metadata": {},
     "output_type": "display_data"
    }
   ],
   "source": [
    "bits = 64\n",
    "\n",
    "p = primo_2q1(bits)\n",
    "\n",
    "q = Integer((p-1)/2)\n",
    "\n",
    "ordenes = 1, 2, q, 2*q\n",
    "\n",
    "print()\n",
    "display(Latex('$p={}=2*{}+1$'.format(p, q)))\n",
    "print()\n",
    "display(Latex('Los órdenes posibles son: {}'.format(ordenes)))\n",
    "\n",
    "for base in [2, 3, 4, 5, 8, p-1]:\n",
    "    show(html('<br></br>Base: {}'.format(base)))\n",
    "    for i in ordenes:\n",
    "        aux=pow(base, i, p)\n",
    "        display(Latex('${3}^{0}\\\\equiv {1} \\\\mod {2}$'.format(str({i}), aux, p, base)))\n"
   ]
  },
  {
   "cell_type": "markdown",
   "metadata": {},
   "source": [
    "> ### Ejemplo\n",
    ">\n",
    "> Dado un primo $p$ hallemos un elemento de un orden primo determinado\n"
   ]
  },
  {
   "cell_type": "code",
   "execution_count": 4,
   "metadata": {
    "tags": []
   },
   "outputs": [
    {
     "data": {
      "text/latex": [
       "$p=67$"
      ],
      "text/plain": [
       "<IPython.core.display.Latex object>"
      ]
     },
     "metadata": {},
     "output_type": "display_data"
    },
    {
     "data": {
      "text/latex": [
       "$p-1=66=2 * 3 * 11$"
      ],
      "text/plain": [
       "<IPython.core.display.Latex object>"
      ]
     },
     "metadata": {},
     "output_type": "display_data"
    },
    {
     "data": {
      "text/latex": [
       "Los órdenes posibles son: $[1, 2, 3, 6, 11, 22, 33, 66]$"
      ],
      "text/plain": [
       "<IPython.core.display.Latex object>"
      ]
     },
     "metadata": {},
     "output_type": "display_data"
    },
    {
     "data": {
      "text/latex": [
       "Buscaremos elementos de orden: $11$"
      ],
      "text/plain": [
       "<IPython.core.display.Latex object>"
      ]
     },
     "metadata": {},
     "output_type": "display_data"
    },
    {
     "data": {
      "text/latex": [
       "Sea $e=\\frac{66}{11}=6$"
      ],
      "text/plain": [
       "<IPython.core.display.Latex object>"
      ]
     },
     "metadata": {},
     "output_type": "display_data"
    },
    {
     "data": {
      "text/latex": [
       "$1^{6}\\equiv 1 \\mod 67$"
      ],
      "text/plain": [
       "<IPython.core.display.Latex object>"
      ]
     },
     "metadata": {},
     "output_type": "display_data"
    },
    {
     "data": {
      "text/latex": [
       "$2^{6}\\equiv 64 \\mod 67$"
      ],
      "text/plain": [
       "<IPython.core.display.Latex object>"
      ]
     },
     "metadata": {},
     "output_type": "display_data"
    },
    {
     "data": {
      "text/latex": [
       "$3^{6}\\equiv 59 \\mod 67$"
      ],
      "text/plain": [
       "<IPython.core.display.Latex object>"
      ]
     },
     "metadata": {},
     "output_type": "display_data"
    },
    {
     "data": {
      "text/latex": [
       "$4^{6}\\equiv 9 \\mod 67$"
      ],
      "text/plain": [
       "<IPython.core.display.Latex object>"
      ]
     },
     "metadata": {},
     "output_type": "display_data"
    },
    {
     "data": {
      "text/latex": [
       "$5^{6}\\equiv 14 \\mod 67$"
      ],
      "text/plain": [
       "<IPython.core.display.Latex object>"
      ]
     },
     "metadata": {},
     "output_type": "display_data"
    },
    {
     "data": {
      "text/latex": [
       "$6^{6}\\equiv 24 \\mod 67$"
      ],
      "text/plain": [
       "<IPython.core.display.Latex object>"
      ]
     },
     "metadata": {},
     "output_type": "display_data"
    },
    {
     "data": {
      "text/latex": [
       "$7^{6}\\equiv 64 \\mod 67$"
      ],
      "text/plain": [
       "<IPython.core.display.Latex object>"
      ]
     },
     "metadata": {},
     "output_type": "display_data"
    },
    {
     "data": {
      "text/latex": [
       "$8^{6}\\equiv 40 \\mod 67$"
      ],
      "text/plain": [
       "<IPython.core.display.Latex object>"
      ]
     },
     "metadata": {},
     "output_type": "display_data"
    },
    {
     "data": {
      "text/latex": [
       "$9^{6}\\equiv 64 \\mod 67$"
      ],
      "text/plain": [
       "<IPython.core.display.Latex object>"
      ]
     },
     "metadata": {},
     "output_type": "display_data"
    },
    {
     "data": {
      "text/latex": [
       "$10^{6}\\equiv 25 \\mod 67$"
      ],
      "text/plain": [
       "<IPython.core.display.Latex object>"
      ]
     },
     "metadata": {},
     "output_type": "display_data"
    },
    {
     "data": {
      "text/latex": [
       "$11^{6}\\equiv 14 \\mod 67$"
      ],
      "text/plain": [
       "<IPython.core.display.Latex object>"
      ]
     },
     "metadata": {},
     "output_type": "display_data"
    },
    {
     "data": {
      "text/latex": [
       "$12^{6}\\equiv 62 \\mod 67$"
      ],
      "text/plain": [
       "<IPython.core.display.Latex object>"
      ]
     },
     "metadata": {},
     "output_type": "display_data"
    },
    {
     "data": {
      "text/latex": [
       "$13^{6}\\equiv 62 \\mod 67$"
      ],
      "text/plain": [
       "<IPython.core.display.Latex object>"
      ]
     },
     "metadata": {},
     "output_type": "display_data"
    },
    {
     "data": {
      "text/latex": [
       "$14^{6}\\equiv 9 \\mod 67$"
      ],
      "text/plain": [
       "<IPython.core.display.Latex object>"
      ]
     },
     "metadata": {},
     "output_type": "display_data"
    },
    {
     "data": {
      "text/latex": [
       "$15^{6}\\equiv 22 \\mod 67$"
      ],
      "text/plain": [
       "<IPython.core.display.Latex object>"
      ]
     },
     "metadata": {},
     "output_type": "display_data"
    },
    {
     "data": {
      "text/latex": [
       "$16^{6}\\equiv 14 \\mod 67$"
      ],
      "text/plain": [
       "<IPython.core.display.Latex object>"
      ]
     },
     "metadata": {},
     "output_type": "display_data"
    },
    {
     "data": {
      "text/latex": [
       "$17^{6}\\equiv 15 \\mod 67$"
      ],
      "text/plain": [
       "<IPython.core.display.Latex object>"
      ]
     },
     "metadata": {},
     "output_type": "display_data"
    },
    {
     "data": {
      "text/latex": [
       "$18^{6}\\equiv 9 \\mod 67$"
      ],
      "text/plain": [
       "<IPython.core.display.Latex object>"
      ]
     },
     "metadata": {},
     "output_type": "display_data"
    },
    {
     "data": {
      "text/latex": [
       "$19^{6}\\equiv 22 \\mod 67$"
      ],
      "text/plain": [
       "<IPython.core.display.Latex object>"
      ]
     },
     "metadata": {},
     "output_type": "display_data"
    },
    {
     "data": {
      "text/latex": [
       "$20^{6}\\equiv 59 \\mod 67$"
      ],
      "text/plain": [
       "<IPython.core.display.Latex object>"
      ]
     },
     "metadata": {},
     "output_type": "display_data"
    },
    {
     "data": {
      "text/latex": [
       "$21^{6}\\equiv 24 \\mod 67$"
      ],
      "text/plain": [
       "<IPython.core.display.Latex object>"
      ]
     },
     "metadata": {},
     "output_type": "display_data"
    },
    {
     "data": {
      "text/latex": [
       "$22^{6}\\equiv 25 \\mod 67$"
      ],
      "text/plain": [
       "<IPython.core.display.Latex object>"
      ]
     },
     "metadata": {},
     "output_type": "display_data"
    },
    {
     "data": {
      "text/latex": [
       "$23^{6}\\equiv 59 \\mod 67$"
      ],
      "text/plain": [
       "<IPython.core.display.Latex object>"
      ]
     },
     "metadata": {},
     "output_type": "display_data"
    },
    {
     "data": {
      "text/latex": [
       "$24^{6}\\equiv 15 \\mod 67$"
      ],
      "text/plain": [
       "<IPython.core.display.Latex object>"
      ]
     },
     "metadata": {},
     "output_type": "display_data"
    },
    {
     "data": {
      "text/latex": [
       "$25^{6}\\equiv 62 \\mod 67$"
      ],
      "text/plain": [
       "<IPython.core.display.Latex object>"
      ]
     },
     "metadata": {},
     "output_type": "display_data"
    },
    {
     "data": {
      "text/latex": [
       "$26^{6}\\equiv 15 \\mod 67$"
      ],
      "text/plain": [
       "<IPython.core.display.Latex object>"
      ]
     },
     "metadata": {},
     "output_type": "display_data"
    },
    {
     "data": {
      "text/latex": [
       "$27^{6}\\equiv 24 \\mod 67$"
      ],
      "text/plain": [
       "<IPython.core.display.Latex object>"
      ]
     },
     "metadata": {},
     "output_type": "display_data"
    },
    {
     "data": {
      "text/latex": [
       "$28^{6}\\equiv 40 \\mod 67$"
      ],
      "text/plain": [
       "<IPython.core.display.Latex object>"
      ]
     },
     "metadata": {},
     "output_type": "display_data"
    },
    {
     "data": {
      "text/latex": [
       "$29^{6}\\equiv 1 \\mod 67$"
      ],
      "text/plain": [
       "<IPython.core.display.Latex object>"
      ]
     },
     "metadata": {},
     "output_type": "display_data"
    },
    {
     "data": {
      "text/latex": [
       "$30^{6}\\equiv 1 \\mod 67$"
      ],
      "text/plain": [
       "<IPython.core.display.Latex object>"
      ]
     },
     "metadata": {},
     "output_type": "display_data"
    },
    {
     "data": {
      "text/latex": [
       "$31^{6}\\equiv 40 \\mod 67$"
      ],
      "text/plain": [
       "<IPython.core.display.Latex object>"
      ]
     },
     "metadata": {},
     "output_type": "display_data"
    },
    {
     "data": {
      "text/latex": [
       "$32^{6}\\equiv 25 \\mod 67$"
      ],
      "text/plain": [
       "<IPython.core.display.Latex object>"
      ]
     },
     "metadata": {},
     "output_type": "display_data"
    },
    {
     "data": {
      "text/latex": [
       "$33^{6}\\equiv 22 \\mod 67$"
      ],
      "text/plain": [
       "<IPython.core.display.Latex object>"
      ]
     },
     "metadata": {},
     "output_type": "display_data"
    },
    {
     "data": {
      "text/latex": [
       "$34^{6}\\equiv 22 \\mod 67$"
      ],
      "text/plain": [
       "<IPython.core.display.Latex object>"
      ]
     },
     "metadata": {},
     "output_type": "display_data"
    },
    {
     "data": {
      "text/latex": [
       "$35^{6}\\equiv 25 \\mod 67$"
      ],
      "text/plain": [
       "<IPython.core.display.Latex object>"
      ]
     },
     "metadata": {},
     "output_type": "display_data"
    },
    {
     "data": {
      "text/latex": [
       "$36^{6}\\equiv 40 \\mod 67$"
      ],
      "text/plain": [
       "<IPython.core.display.Latex object>"
      ]
     },
     "metadata": {},
     "output_type": "display_data"
    },
    {
     "data": {
      "text/latex": [
       "$37^{6}\\equiv 1 \\mod 67$"
      ],
      "text/plain": [
       "<IPython.core.display.Latex object>"
      ]
     },
     "metadata": {},
     "output_type": "display_data"
    },
    {
     "data": {
      "text/latex": [
       "$38^{6}\\equiv 1 \\mod 67$"
      ],
      "text/plain": [
       "<IPython.core.display.Latex object>"
      ]
     },
     "metadata": {},
     "output_type": "display_data"
    },
    {
     "data": {
      "text/latex": [
       "$39^{6}\\equiv 40 \\mod 67$"
      ],
      "text/plain": [
       "<IPython.core.display.Latex object>"
      ]
     },
     "metadata": {},
     "output_type": "display_data"
    },
    {
     "data": {
      "text/latex": [
       "$40^{6}\\equiv 24 \\mod 67$"
      ],
      "text/plain": [
       "<IPython.core.display.Latex object>"
      ]
     },
     "metadata": {},
     "output_type": "display_data"
    },
    {
     "data": {
      "text/latex": [
       "$41^{6}\\equiv 15 \\mod 67$"
      ],
      "text/plain": [
       "<IPython.core.display.Latex object>"
      ]
     },
     "metadata": {},
     "output_type": "display_data"
    },
    {
     "data": {
      "text/latex": [
       "$42^{6}\\equiv 62 \\mod 67$"
      ],
      "text/plain": [
       "<IPython.core.display.Latex object>"
      ]
     },
     "metadata": {},
     "output_type": "display_data"
    },
    {
     "data": {
      "text/latex": [
       "$43^{6}\\equiv 15 \\mod 67$"
      ],
      "text/plain": [
       "<IPython.core.display.Latex object>"
      ]
     },
     "metadata": {},
     "output_type": "display_data"
    },
    {
     "data": {
      "text/latex": [
       "$44^{6}\\equiv 59 \\mod 67$"
      ],
      "text/plain": [
       "<IPython.core.display.Latex object>"
      ]
     },
     "metadata": {},
     "output_type": "display_data"
    },
    {
     "data": {
      "text/latex": [
       "$45^{6}\\equiv 25 \\mod 67$"
      ],
      "text/plain": [
       "<IPython.core.display.Latex object>"
      ]
     },
     "metadata": {},
     "output_type": "display_data"
    },
    {
     "data": {
      "text/latex": [
       "$46^{6}\\equiv 24 \\mod 67$"
      ],
      "text/plain": [
       "<IPython.core.display.Latex object>"
      ]
     },
     "metadata": {},
     "output_type": "display_data"
    },
    {
     "data": {
      "text/latex": [
       "$47^{6}\\equiv 59 \\mod 67$"
      ],
      "text/plain": [
       "<IPython.core.display.Latex object>"
      ]
     },
     "metadata": {},
     "output_type": "display_data"
    },
    {
     "data": {
      "text/latex": [
       "$48^{6}\\equiv 22 \\mod 67$"
      ],
      "text/plain": [
       "<IPython.core.display.Latex object>"
      ]
     },
     "metadata": {},
     "output_type": "display_data"
    },
    {
     "data": {
      "text/latex": [
       "$49^{6}\\equiv 9 \\mod 67$"
      ],
      "text/plain": [
       "<IPython.core.display.Latex object>"
      ]
     },
     "metadata": {},
     "output_type": "display_data"
    },
    {
     "data": {
      "text/latex": [
       "$50^{6}\\equiv 15 \\mod 67$"
      ],
      "text/plain": [
       "<IPython.core.display.Latex object>"
      ]
     },
     "metadata": {},
     "output_type": "display_data"
    },
    {
     "data": {
      "text/latex": [
       "$51^{6}\\equiv 14 \\mod 67$"
      ],
      "text/plain": [
       "<IPython.core.display.Latex object>"
      ]
     },
     "metadata": {},
     "output_type": "display_data"
    },
    {
     "data": {
      "text/latex": [
       "$52^{6}\\equiv 22 \\mod 67$"
      ],
      "text/plain": [
       "<IPython.core.display.Latex object>"
      ]
     },
     "metadata": {},
     "output_type": "display_data"
    },
    {
     "data": {
      "text/latex": [
       "$53^{6}\\equiv 9 \\mod 67$"
      ],
      "text/plain": [
       "<IPython.core.display.Latex object>"
      ]
     },
     "metadata": {},
     "output_type": "display_data"
    },
    {
     "data": {
      "text/latex": [
       "$54^{6}\\equiv 62 \\mod 67$"
      ],
      "text/plain": [
       "<IPython.core.display.Latex object>"
      ]
     },
     "metadata": {},
     "output_type": "display_data"
    },
    {
     "data": {
      "text/latex": [
       "$55^{6}\\equiv 62 \\mod 67$"
      ],
      "text/plain": [
       "<IPython.core.display.Latex object>"
      ]
     },
     "metadata": {},
     "output_type": "display_data"
    },
    {
     "data": {
      "text/latex": [
       "$56^{6}\\equiv 14 \\mod 67$"
      ],
      "text/plain": [
       "<IPython.core.display.Latex object>"
      ]
     },
     "metadata": {},
     "output_type": "display_data"
    },
    {
     "data": {
      "text/latex": [
       "$57^{6}\\equiv 25 \\mod 67$"
      ],
      "text/plain": [
       "<IPython.core.display.Latex object>"
      ]
     },
     "metadata": {},
     "output_type": "display_data"
    },
    {
     "data": {
      "text/latex": [
       "$58^{6}\\equiv 64 \\mod 67$"
      ],
      "text/plain": [
       "<IPython.core.display.Latex object>"
      ]
     },
     "metadata": {},
     "output_type": "display_data"
    },
    {
     "data": {
      "text/latex": [
       "$59^{6}\\equiv 40 \\mod 67$"
      ],
      "text/plain": [
       "<IPython.core.display.Latex object>"
      ]
     },
     "metadata": {},
     "output_type": "display_data"
    },
    {
     "data": {
      "text/latex": [
       "$60^{6}\\equiv 64 \\mod 67$"
      ],
      "text/plain": [
       "<IPython.core.display.Latex object>"
      ]
     },
     "metadata": {},
     "output_type": "display_data"
    },
    {
     "data": {
      "text/latex": [
       "$61^{6}\\equiv 24 \\mod 67$"
      ],
      "text/plain": [
       "<IPython.core.display.Latex object>"
      ]
     },
     "metadata": {},
     "output_type": "display_data"
    },
    {
     "data": {
      "text/latex": [
       "$62^{6}\\equiv 14 \\mod 67$"
      ],
      "text/plain": [
       "<IPython.core.display.Latex object>"
      ]
     },
     "metadata": {},
     "output_type": "display_data"
    },
    {
     "data": {
      "text/latex": [
       "$63^{6}\\equiv 9 \\mod 67$"
      ],
      "text/plain": [
       "<IPython.core.display.Latex object>"
      ]
     },
     "metadata": {},
     "output_type": "display_data"
    },
    {
     "data": {
      "text/latex": [
       "$64^{6}\\equiv 59 \\mod 67$"
      ],
      "text/plain": [
       "<IPython.core.display.Latex object>"
      ]
     },
     "metadata": {},
     "output_type": "display_data"
    },
    {
     "data": {
      "text/latex": [
       "$65^{6}\\equiv 64 \\mod 67$"
      ],
      "text/plain": [
       "<IPython.core.display.Latex object>"
      ]
     },
     "metadata": {},
     "output_type": "display_data"
    },
    {
     "data": {
      "text/latex": [
       "$66^{6}\\equiv 1 \\mod 67$"
      ],
      "text/plain": [
       "<IPython.core.display.Latex object>"
      ]
     },
     "metadata": {},
     "output_type": "display_data"
    },
    {
     "data": {
      "text/latex": [
       "Los elementos de orden primo 11 son: ${64, 40, 9, 14, 15, 22, 24, 25, 59, 62}$"
      ],
      "text/plain": [
       "<IPython.core.display.Latex object>"
      ]
     },
     "metadata": {},
     "output_type": "display_data"
    }
   ],
   "source": [
    "bits = 8\n",
    "p = next_probable_prime(randint(1, 2**bits))\n",
    "#p=131\n",
    "\n",
    "factores = factor(p-1)\n",
    "divisores = divisors(p-1)\n",
    "\n",
    "display(Latex('$p={0}$'.format(p)))\n",
    "display(Latex('$p-1={0}={1}$'.format(p-1, factores)))\n",
    "display(Latex('Los órdenes posibles son: ${0}$'.format(divisores)))\n",
    "\n",
    "\n",
    "orden = [i for i in divisores if is_prime(i)]\n",
    "orden = orden[-1]\n",
    "\n",
    "e = Integer((p-1)/orden)\n",
    "\n",
    "display(Latex('Buscaremos elementos de orden: ${0}$'.format(orden)))\n",
    "display(Latex('Sea $e=\\\\frac{0}{1}={2}$'.format(str({p-1}), str({orden}),e)))\n",
    "\n",
    "candidatos=[]\n",
    "for base in range(1, p):\n",
    "    aux=pow(base, e, p)\n",
    "    if aux!=1:\n",
    "        candidatos.append(aux)\n",
    "    display(Latex('${3}^{0}\\\\equiv {1} \\\\mod {2}$'.format(str({e}), aux, p, base)))\n",
    "\n",
    "display(Latex('Los elementos de orden primo {0} son: ${1}$'.format(orden, set(candidatos))))\n",
    "\n"
   ]
  },
  {
   "cell_type": "markdown",
   "metadata": {},
   "source": [
    "> ### Ejemplo\n",
    ">\n",
    "> Dado un primo $p$ hallemos un generador\n"
   ]
  },
  {
   "cell_type": "code",
   "execution_count": null,
   "metadata": {
    "tags": []
   },
   "outputs": [],
   "source": [
    "bits = 32\n",
    "\n",
    "p = next_probable_prime(randint(1, 2**bits))\n",
    "\n",
    "p = primo_2q1(bits)\n",
    "\n",
    "factores = factor(p-1)\n",
    "divisores = divisors(p-1)\n",
    "\n",
    "display(Latex('$p={0}$'.format(p)))\n",
    "display(Latex('$p-1={0}={1}$'.format(p-1, factores)))\n",
    "display(Latex('Los órdenes posibles son: ${0}$'.format(divisores)))\n",
    "\n",
    "\n",
    "ordenes = divisores[:-1]\n",
    "es_generador = False\n",
    "\n",
    "\n",
    "while es_generador == False:\n",
    "    es_generador = True\n",
    "    base = randint(1, 2**bits)\n",
    "    print('.'+str(base), end='.')\n",
    "    for e in ordenes:\n",
    "        aux = pow(base, e, p)\n",
    "        if aux == 1:\n",
    "            es_generador = False\n",
    "\n",
    "\n",
    "display(Latex('Un generador es $g={0}$'.format(base)))\n",
    "\n",
    "for e in divisores:\n",
    "    aux = pow(base, e, p)\n",
    "    display(Latex('${3}^{0}\\\\equiv {1} \\\\mod {2}$'.format(str({e}), aux, p, base)))\n"
   ]
  },
  {
   "cell_type": "raw",
   "metadata": {},
   "source": []
  },
  {
   "cell_type": "markdown",
   "metadata": {},
   "source": [
    "<br>\n",
    "\n",
    "\n",
    "**Definición.** Diremos que $a\\in\\mathbb Z_n^*$ es `residuo cuadrático` módulo $n$ si existe $b\\in\\mathbb Z_n^*$ tal que $a\\equiv b^2\\mod n$. O sea, si la ecuación $X^2\\equiv a \\mod n$ tiene solución en $Z_n^*$."
   ]
  },
  {
   "cell_type": "markdown",
   "metadata": {},
   "source": [
    "> ### Ejemplo\n",
    ">\n",
    "> Residuos cuadráticos módulo $p$\n",
    ">"
   ]
  },
  {
   "cell_type": "code",
   "execution_count": null,
   "metadata": {
    "tags": []
   },
   "outputs": [],
   "source": [
    "bits = 9\n",
    "p = next_probable_prime(randint(2, 2**bits))\n",
    "\n",
    "residuos = []\n",
    "for k in range(2, p):\n",
    "    residuos.append(pow(k, 2, p))\n",
    "residuos = sorted(list(set(residuos)))\n",
    "\n",
    "display(Latex('$p={0}$'.format(p)))\n",
    "\n",
    "display(Latex('Los residuos cuadráticos son: ${0}$'.format(residuos)))\n",
    "\n",
    "print('Número de residuos:', len(residuos))"
   ]
  },
  {
   "cell_type": "raw",
   "metadata": {},
   "source": []
  },
  {
   "cell_type": "markdown",
   "metadata": {},
   "source": [
    "**Teorema.** Sea $p$ primo impar y $g$ generador de $\\mathbb Z_p^*$. Entonces:\n",
    "\n",
    "<center>\n",
    "$a\\in \\mathbb Z_p^*$ es residuo cuadrático módulo $p$ $\\Leftrightarrow$ $a\\equiv g^{2k}\\mod p$.\n",
    "</center>\n",
    " \n",
    " \n",
    "\n",
    "Además, exactamente la mitad de los elementos de $\\mathbb Z_p^*$ son residuos cuadráticos.\n",
    "\n",
    "**Corolario.** \n",
    "$a\\in \\mathbb Z_p^*$ es residuo cuadrático módulo $p$ $\\Leftrightarrow$ $a^{\\frac{p-1}{2}}\\equiv 1\\mod p$.\n",
    "\n",
    "**Corolario.** \n",
    "Sea $p$ primo impar y $a$ residuo cuadrático módulo $p$.\n",
    "La ecuación $X^2\\equiv a \\mod p$ tiene exactamente dos soluciones: $g^k$ y $g^{k+\\frac{p-1}{2}}$ (siendo $a\\equiv g^{2k} \\mod p$).\n",
    "\n",
    "**Corolario.** \n",
    "Sea $p$ primo impar. \n",
    "La ecuación $X^2\\equiv 1 \\mod p$ tiene exactamente las soluciones $X \\equiv \\pm 1 \\mod p$.\n",
    "\n",
    "\n",
    "\n",
    "\n"
   ]
  },
  {
   "cell_type": "markdown",
   "metadata": {},
   "source": [
    "> ### Ejemplo\n",
    ">\n",
    ">$X^2\\equiv 1 \\mod 15=3\\cdot5$, $\\quad x\\equiv \\pm 1, \\pm 4 \\mod 15$\n",
    ">\n",
    "> $X^2\\equiv 1 \\mod 105=3\\cdot5\\cdot7$, $\\quad x\\equiv \\pm 1, \\pm 29, \\pm 34, \\pm 41 \\mod 105$\n",
    ">\n"
   ]
  },
  {
   "cell_type": "markdown",
   "metadata": {},
   "source": []
  },
  {
   "cell_type": "markdown",
   "metadata": {},
   "source": [
    "## <a href=\"#ipp\" id=\"pp\"> 2. Pseudoprimos</a>\n",
    "\n",
    "**Definición.** Diremos que un entero positivo $n$ pasa el `test de Fermat` en base $b$, $\\text{mcd}(b,n)=1$, si $b^{n-1}\\equiv 1 \\mod n$.\n",
    "\n",
    "**Observaciones:**\n",
    "* Si $\\text{mcd}(b,n)\\neq 1$, $1<b<n$, entonces $n$ es compuesto. El coste de calcular $mcd(b,n)$ es cuadrático en el número de bits de $n$; el coste de calcular $b^{n-1} \\mod n$ es cúbico en el número de bits de $n$; \n",
    "* Si $n$ es primo, pasa el test de Fermat en cualquier base.\n",
    "\n",
    "**Definición.** Diremos que un entero compuesto $n$ es `pseudoprimo` en base $b$ si pasa el test de Fermat en base $b$.\n",
    "\n"
   ]
  },
  {
   "cell_type": "markdown",
   "metadata": {},
   "source": [
    "> ### Ejemplo\n",
    "> $n$ compuesto, pseudoprimo en diferentes bases $b$"
   ]
  },
  {
   "cell_type": "code",
   "execution_count": null,
   "metadata": {
    "tags": []
   },
   "outputs": [],
   "source": [
    "bits_p = 8\n",
    "bits = 2*bits_p\n",
    "p = next_probable_prime(randint(1, 2**bits_p))\n",
    "q = next_probable_prime(randint(1, 2**bits_p))\n",
    "n = p*q\n",
    "#n=91\n",
    "\n",
    "show(html('$n={0}$'.format(n)))\n",
    "\n",
    "for b in [2,3,5]:\n",
    "        if gcd(n, b) == 1:\n",
    "            aux = pow(b, n-1, n)\n",
    "            if aux == 1:\n",
    "                display(Latex('${3}^{0}\\\\equiv {1} \\\\mod {2}$. {2} SÍ es pseudoprimo en base {3}'.format(str({n-1}), aux, n, b)))\n",
    "            else:\n",
    "                display(Latex('${3}^{0}\\\\equiv {1} \\\\mod {2}$. {2} NO es pseudoprimo en base {3}'.format(str({n-1}), aux, n, b)))\n",
    "            show(html('<br>'))\n",
    "\n",
    "for _ in range(5):\n",
    "        b = randint(1, 2**bits)\n",
    "        while gcd(n, b) != 1:\n",
    "            b = randint(1, 2**bits)\n",
    "        aux = pow(b, n-1, n)\n",
    "        if aux == 1:\n",
    "            display(Latex('${3}^{0}\\\\equiv {1} \\\\mod {2}$. {2} SÍ es pseudoprimo en base {3}'.format(str({n-1}), aux, n, b)))\n",
    "        else:\n",
    "            display(Latex('${3}^{0}\\\\equiv {1} \\\\mod {2}$. {2} NO es pseudoprimo en base {3}'.format(str({n-1}), aux, n, b)))\n",
    "        show(html('<br>'))\n",
    "\n",
    "\n",
    "\n",
    "contar_bases_pp(n)\n",
    "print()\n",
    "contar_bases_pp(91)\n",
    "print()\n",
    "contar_bases_pp(561)\n"
   ]
  },
  {
   "cell_type": "raw",
   "metadata": {},
   "source": []
  },
  {
   "cell_type": "markdown",
   "metadata": {},
   "source": [
    "**Teorema.** si $n$ no pasa el test de Fermat en base $b$, $\\text{mcd}(b,n)=1$, entonces no pasa el tests de Fermat para, como mínimo, la mitad de las bases posibles.\n",
    "\n",
    "**Observaciones:**\n",
    "* Excepto en el caso en que $n$ pase el test de Fermat en todas las bases, la probabilidad de que un entero compuesto pase el test de Fermat en una base elegida aleatoriamente es menor o igual que $\\frac{1}{2}$.\n",
    "* Números de Carmichael: enteros compuestos que pasan el test de Fermat en todas las bases:\n",
    "    - 561 es el menor número de Carmichael.\n",
    "    - Hay infinitos números de Charmichael.\n",
    "    - $C(x)> x^{0.332}$ para $x$ grande. \n"
   ]
  },
  {
   "cell_type": "markdown",
   "metadata": {},
   "source": []
  },
  {
   "cell_type": "markdown",
   "metadata": {
    "execution": {
     "iopub.execute_input": "2021-10-18T15:24:35.098982Z",
     "iopub.status.busy": "2021-10-18T15:24:35.098593Z",
     "iopub.status.idle": "2021-10-18T15:24:35.102412Z",
     "shell.execute_reply": "2021-10-18T15:24:35.101667Z",
     "shell.execute_reply.started": "2021-10-18T15:24:35.098946Z"
    }
   },
   "source": [
    "## <a href=\"#ippf\" id=\"ppf\">3. Pseudo primos fuertes. Test de Miller Rabin</a>\n",
    "\n",
    "Sabemos que si $p$ es un primo impar entoces las únicas soluciones de $X^2\\equiv 1 \\mod p$ son $\\pm 1$.\n",
    "\n",
    "---\n",
    "\n",
    "Sea $p$ primo impar, entonces podemos escribir $p-1=2^tp_0$ siendo $t\\geq 1$ y $p_0$ impar. (*$t$ es el número de ceros finales en la representación binaria de $p-1$ y $p_0$ se obtiene a partir de $p-1$ eliminando los ceros finales.*)\n",
    "\n",
    "Dado $b$, $b>0$, $\\text{mcd}(b,p)=1$, definimos:\n",
    "* $x_0= b^{p_0}\\mod p$\n",
    "* $x_i=x_{i-1}^2\\mod p$, $i=1...t$.  (Notemos que $x_t\\equiv b^{2^tp_0}\\equiv 1 \\mod p$.)\n",
    "\n",
    "Por lo tanto:\n",
    "\n",
    "* $x_t\\equiv 1 \\mod p$ (Notemos que $x_t\\equiv b^{2^tp_0}\\equiv 1 \\mod p$.)\n",
    "* $x_{t-1}\\equiv \\pm 1\\mod p$\n",
    "    - Si $x_{t-1}\\equiv -1\\mod p$, $-1\\in\\{x_0, x_1,...,x_{t-1}\\}$\n",
    "    - Si $x_{t-1}\\equiv +1\\mod p$\n",
    "        * Si $x_{t-2}\\equiv -1\\mod p$, $-1\\in\\{x_0, x_1,...,x_{t-1}\\}$\n",
    "        * Si $x_{t-2}\\equiv +1\\mod p$\n",
    "            * ...\n",
    "                \n",
    "Recapitulando:\n",
    " $-1\\in\\{x_0, x_1,...,x_{t-1}\\}\\quad \\text{ó}\\quad x_0\\equiv 1 \\mod p$ \n",
    "    \n",
    "Dicho de otra manera: $\\{x_0, x_1,...,x_{t}\\}=\\{...,-1,1,1,...,1\\}$ o sea que o son todos 1 o delante del primer 1 hay un -1."
   ]
  },
  {
   "cell_type": "markdown",
   "metadata": {},
   "source": [
    "> ### Ejemplo"
   ]
  },
  {
   "cell_type": "code",
   "execution_count": null,
   "metadata": {
    "tags": []
   },
   "outputs": [],
   "source": [
    "bits = 16\n",
    "lista_enteros=[41, 7*13, next_prime(randint(1, 2**bits)), 2*randint(1, 2**bits)+1, 2*randint(1, 2**bits)+1, 2*randint(1, 2**bits)+1, 2*randint(1, 2**bits)+1]\n",
    "bases=[2, 3, 5, 10, 2*randint(1, 2**bits)+1, 2*randint(1, 2**bits)+1]\n",
    "\n",
    "for n in lista_enteros:\n",
    "    n1 = n-1\n",
    "    t = 0\n",
    "    while n1:\n",
    "        if n1 & 1:\n",
    "            break\n",
    "        n1 >>= 1\n",
    "        t += 1\n",
    "    n0 = (n-1)/2**t\n",
    "\n",
    "    show(html('<br> $n={0}, n-1={1}=2^{2}{3}$'.format(n, n-1, str({t}), n0)))\n",
    "\n",
    "    for b in bases:\n",
    "        x_i = [pow(b, n0, n)]\n",
    "        for i in range(t):\n",
    "            aux = pow(x_i[-1], 2, n)\n",
    "            x_i.append(pow(x_i[-1], 2, n))\n",
    "        y_i = [i if i != n-1 else -1 for i in x_i]\n",
    "        display(Latex('Base {0}, {1}$\\\\equiv${2}'.format(b, x_i, y_i)))\n"
   ]
  },
  {
   "cell_type": "raw",
   "metadata": {},
   "source": []
  },
  {
   "cell_type": "markdown",
   "metadata": {},
   "source": [
    "**Definición.** Diremos que $n$ entero positivo impar pasa el `test de Miller Rabin` en base $b$, $b>0$ y $\\text{mcd}(b,n)=1$ si:\n",
    "\n",
    "1. $x_t\\equiv 1 \\mod n$ (Fermat)\n",
    "2. $-1\\in\\{x_0, x_1,...,x_{t-1}\\}\\quad \\text{ó}\\quad x_0\\equiv 1 \\mod p$ (esta condición implica la anterior).\n",
    "\n",
    "siendo:\n",
    "* $n-1=2^t n_0$, $n_0$ impar,\n",
    "* $x_0= b^{n_0}\\mod n$\n",
    "* $x_i=x_{i-1}^2\\mod n$, $i=1...t$. \n",
    "\n",
    "**Observaciones:**\n",
    "* Si $n$ es primo, entonces pasa el test de Miller Rabin en cualquier base.\n",
    "* Si $n$ no pasa el test de Miller Rabin en alguna base, entonces es compuesto.\n",
    "\n",
    "\n",
    "**Definición.** Un $n$ entero compuesto positivo impar es `pseudoprimo fuerte` en base $b$ si pasa el test de Miller Rabin en dicha base.\n",
    "\n",
    "**Observación:** Todo pseudoprimo fuerte en base $b$ también es pseudoprimo en la misma base.\n"
   ]
  },
  {
   "cell_type": "markdown",
   "metadata": {},
   "source": [
    "> ### Ejemplo "
   ]
  },
  {
   "cell_type": "code",
   "execution_count": null,
   "metadata": {
    "tags": []
   },
   "outputs": [],
   "source": [
    "bits = 16\n",
    "lista_enteros=[2*randint(1, 2**bits)+1 for _ in range(3)]\n",
    "bases=[2, 3, 5, 97]\n",
    "\n",
    "for n in lista_enteros:\n",
    "    n1 = n-1\n",
    "    t = 0\n",
    "    while n1:\n",
    "        if n1 & 1:\n",
    "            break\n",
    "        n1 >>= 1\n",
    "        t += 1\n",
    "    n0 = (n-1)/2**t\n",
    "\n",
    "    show(html('<br> $n={0}, n-1={1}=2^{2}{3}$'.format(n, n-1, str({t}), n0)))\n",
    "\n",
    "    for b in bases:\n",
    "        x_i = [pow(b, n0, n)]\n",
    "        for i in range(t):\n",
    "            aux = pow(x_i[-1], 2, n)\n",
    "            x_i.append(pow(x_i[-1], 2, n))\n",
    "        y_i = [i if i != n-1 else -1 for i in x_i]\n",
    "        display(Latex('Base {0}, {1}$\\\\equiv${2}'.format(b, x_i, y_i)))\n",
    "\n"
   ]
  },
  {
   "cell_type": "markdown",
   "metadata": {},
   "source": [
    "**Teorema.** Un entero positivo compuesto impar $n$ es pseudoprimo fuerte en $\\frac{\\varphi(n)}{4}$ bases como máximo.\n",
    "\n",
    "**Observaciones:**\n",
    "* La probabilidad de que un entero positivo compuesto impar pase el test de MIller Rabin en una base elegida al azar es menor que $\\frac{1}{4}$.\n",
    "* La probabilidad de que un entero positivo compuesto impar pase el test de MIller Rabin $k$ bases elegida al azar es menor que $\\frac{1}{4^k}$.\n",
    "* El coste de aplicar el test de Miller Rabin a un entero $n$ es cúbico en el número de bits de $n$."
   ]
  },
  {
   "cell_type": "markdown",
   "metadata": {},
   "source": []
  },
  {
   "cell_type": "markdown",
   "metadata": {},
   "source": [
    "## <a href=\"#itest\" id=\"test\">4. Test de primalidad</a>\n",
    "\n",
    "En la práctica, el proceso a seguir para buscar números, probablemente, primos es:\n",
    "\n",
    "> 1. Generar $n$ impar del tamaño apropiado.\n",
    "> 2. Se divide $n$ por primos menores que una cota $B$. (*Sólo el 20% de los candidatos pasa esta criba si B=256; añadir un primo más pasamos del 20.07% al 19.99%; si B=1000, pasan la criba el 16,19% de los candidatos.*)\n",
    "3. Se comprueba si $n$ pasa el test de Miller Rabin en base 2. (*La mayoría de los enteros compuestos no lo pasan.*) \n",
    "4. Se aplica el test de Miller Rabin a $k$ bases tomadas al azar.\n",
    "\n",
    "Si $n$ pasa (2)-(4) entonces es compuesto con probabilidad $<< \\frac{1}{4^k}$.\n",
    "\n",
    "Si $n$ falla en algún punto, se incrementa en 2 y se vuelve a (2). Si esta situación se repite en demasía, se vuelve a (1). \n",
    "\n",
    "**Observaciones:**\n",
    "* La parte más costosa es el test de Miller Rabin que es $\\mathcal O (\\log^3{n})$.\n",
    "* Las divisiones en (2) tienen un coste $\\mathcal O (\\log{n})$ ya que $B$ es independiente de $n$ y pequeño.\n",
    "* Las probabilidades son $<< \\frac{1}{4^k}$:\n",
    "|  bits \\ k      | 5 | 10     |\n",
    "| :---        |    :----:   |          ---: |\n",
    "| **250**   | $2^{-54}$       | $2^{-79}$   |\n",
    "| **500**   | $2^{-85}$        | $2^{-119}$  |\n",
    "* Si imponemos que la probabilidad sea menos que $2^{-80}$:\n",
    "|  |  |  |  |  |\n",
    "| - | :-: | :-: | :-: | :-: |\n",
    "| **bits**   | 250      | 500   | 1000   | 2000   |\n",
    "| **k**   | 12        | 6 | 3 | 2 |\n",
    "* Existe un test determiníntico *rápido* pero su coste es $\\mathcal O (\\log^6{n})$. (*Para un primo de 1000 bits supone pasar de tardar milisegundos a una semana.*)  \n",
    "* Para enteros menores que $10^{50}$ es posible generar primos son total seguridad en tiempo real."
   ]
  },
  {
   "cell_type": "code",
   "execution_count": null,
   "metadata": {
    "tags": []
   },
   "outputs": [],
   "source": [
    "lista_primos = [i for i in range(256) if is_prime(i)]\n",
    "\n",
    "def es_divisible(n, lista_primos):\n",
    "    for i in lista_primos:\n",
    "        if n%i == 0:\n",
    "            return True\n",
    "    return False\n",
    "\n",
    "def Test_Miller_Rabin(n,b):\n",
    "    if gcd(n,b) != 1:\n",
    "        return None\n",
    "\n",
    "    n1 = n-1\n",
    "    t = 0\n",
    "    while n1:\n",
    "        if n1 & 1:\n",
    "            break\n",
    "        n1 >>= 1\n",
    "        t += 1\n",
    "    n0 = Integer((n-1)/2**t)\n",
    "\n",
    "    x_i = Integer(pow(b, n0, n))\n",
    "    if x_i == 1 or x_i == n-1:\n",
    "        return True\n",
    "    else:\n",
    "        for _ in range(t):\n",
    "            x_i = Integer(pow(x_i, 2, n))\n",
    "            if x_i == n-1:\n",
    "                return True\n",
    "    return False\n",
    "\n",
    "\n",
    "def Test_Miller_Rabin_bases(n, k = 10):\n",
    "    for _ in range(k):\n",
    "        base = randint(2, n-1)\n",
    "        if gcd(base, n) != 1:\n",
    "            return False\n",
    "        if Test_Miller_Rabin(n, base) == False:\n",
    "            return False\n",
    "    return True\n",
    "\n",
    "\n",
    "def Primo_probable(n_bits, lista_primos, k = 10):\n",
    "    n = 2*randint(2**(n_bits-2), 2**(n_bits-1))+1\n",
    "    aux = 0\n",
    "    aux1 = 0\n",
    "    while es_divisible(n, lista_primos) == True or Test_Miller_Rabin(n, 2) == False or Test_Miller_Rabin_bases(n, k = 10) == False:\n",
    "        print('.', end='')\n",
    "        n = n+2\n",
    "        aux = aux+1\n",
    "        if aux > n_bits//2:\n",
    "            print('+', end='')\n",
    "            n = 2*randint(2**(n_bits-2), 2**(n_bits-1))+1\n",
    "            aux = 0\n",
    "            aux1 += 1\n",
    "    print(str(aux+aux1*n_bits//2)+':')\n",
    "    return n\n"
   ]
  },
  {
   "cell_type": "code",
   "execution_count": null,
   "metadata": {
    "tags": []
   },
   "outputs": [],
   "source": [
    "n = Primo_probable(2048, lista_primos)\n",
    "print(is_prime(n), n)"
   ]
  },
  {
   "cell_type": "code",
   "execution_count": null,
   "metadata": {
    "tags": []
   },
   "outputs": [],
   "source": [
    "for _ in range(5):\n",
    "    n = Primo_probable(1024,lista_primos)\n",
    "    print(is_prime(n), n)\n",
    "    print()"
   ]
  },
  {
   "cell_type": "code",
   "execution_count": null,
   "metadata": {},
   "outputs": [],
   "source": []
  },
  {
   "cell_type": "code",
   "execution_count": null,
   "metadata": {},
   "outputs": [],
   "source": []
  }
 ],
 "metadata": {
  "kernelspec": {
   "display_name": "SageMath 10.2",
   "language": "sage",
   "name": "sagemath"
  },
  "language_info": {
   "codemirror_mode": {
    "name": "ipython",
    "version": 3
   },
   "file_extension": ".py",
   "mimetype": "text/x-python",
   "name": "python",
   "nbconvert_exporter": "python",
   "pygments_lexer": "ipython3",
   "version": "3.11.6"
  },
  "widgets": {
   "application/vnd.jupyter.widget-state+json": {
    "state": {},
    "version_major": 2,
    "version_minor": 0
   }
  }
 },
 "nbformat": 4,
 "nbformat_minor": 4
}
