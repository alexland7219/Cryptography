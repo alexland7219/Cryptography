{
  "nbformat": 4,
  "nbformat_minor": 0,
  "metadata": {
    "colab": {
      "provenance": []
    },
    "kernelspec": {
      "name": "python3",
      "display_name": "Python 3"
    },
    "language_info": {
      "name": "python"
    }
  },
  "cells": [
    {
      "cell_type": "code",
      "execution_count": null,
      "metadata": {
        "id": "H1GZuXTF1VTj"
      },
      "outputs": [],
      "source": [
        "import base64\n",
        "\n",
        "\n",
        "#codigo_control = \"***3pqLcmlR4doMe2P/RIaHWMjpOQYpFef1y40K7lPIrmTy8r5zpGwf9wj4lkD2ySFTuutOyyOa+fiyaj6CUO8azHcqKp/WdYaLpkzc7Yj6EDtI80DLwQDwEqlncYhCr+751sP8xZg4YtVb+WCWj2ET6NYHePl/B3dWWNkvs1rB5B75w0RrSiaTgzcxeOuQa86dwcYUog1k4PWlWLEp5ZvssDgUmr2cP+xoJOtTZ7Up5xnjakllexz2igpFr7QOlYzSxBscmORvlnwfx7HbRkUK8SfwvjFRcqJT42EWUfwbBYH/zHwqUuJMnGe5WFHafGDgLmhG5xoMvNW35TKATCA==#1Ep2b+g/2IPqjy+yyCDWIlMRbByKHKb/#40289dc4891a9f30018a8d6bce970dfe#40289dc4891a9f30018a8d6bce730df7#1694698008512\"\n",
        "codigo_control = \"Bu7zKcy5MvPKYHslb70Az97Ft8dc9xIjqdh02IdNrRThGmUN1NBjIIf3P9xq8ggFYSZ7dsuhUJZP3AAvlRmj/DhX3HzkRkyowTfp0mk41hF5crXDHinho2PDD0TIeFqmvztr2Z1uZBlOW+jlZvRxafhENbhcb2rcnYsRXek9MferV4h6F9Q9/v1Kgf96EBmPt4gFhWW24NijxtWU3VhWyV13TrZqLSj8q8l940nZH9HqbzHOa6V1P19mAWMz+yODSx4PRWZh+Fku56g0KVYXEawv5V5csNCUJUGvz++J1KkjHWirN9QlHExiqyYWk9rTddK4kISKFjfTHlqJJVszCA==#PuGOMFFzI0CLPwaLjFGuh6EVTLwmoFPV#40289dc4869376800186c1bae1541bcf#40289dc4869376800186c1bae0bb1b82#1678451025377\"\n",
        "# Paso 1: Dividir el código en partes usando '#'\n",
        "partes = codigo_control.split('#')\n",
        "\n",
        "# Paso 2: Extraer las partes relevantes\n",
        "firma_base64 = partes[0]\n",
        "ballot_identifier_base64 = partes[1]\n",
        "election_id = partes[2]\n",
        "election_event_id = partes[3]\n",
        "timestamp = partes[4]"
      ]
    },
    {
      "cell_type": "code",
      "source": [
        "firma_base64"
      ],
      "metadata": {
        "colab": {
          "base_uri": "https://localhost:8080/",
          "height": 53
        },
        "id": "6ByFIz5O1bG1",
        "outputId": "6ae219d6-768d-4cec-e667-6ec74473fb97"
      },
      "execution_count": null,
      "outputs": [
        {
          "output_type": "execute_result",
          "data": {
            "text/plain": [
              "'Bu7zKcy5MvPKYHslb70Az97Ft8dc9xIjqdh02IdNrRThGmUN1NBjIIf3P9xq8ggFYSZ7dsuhUJZP3AAvlRmj/DhX3HzkRkyowTfp0mk41hF5crXDHinho2PDD0TIeFqmvztr2Z1uZBlOW+jlZvRxafhENbhcb2rcnYsRXek9MferV4h6F9Q9/v1Kgf96EBmPt4gFhWW24NijxtWU3VhWyV13TrZqLSj8q8l940nZH9HqbzHOa6V1P19mAWMz+yODSx4PRWZh+Fku56g0KVYXEawv5V5csNCUJUGvz++J1KkjHWirN9QlHExiqyYWk9rTddK4kISKFjfTHlqJJVszCA=='"
            ],
            "application/vnd.google.colaboratory.intrinsic+json": {
              "type": "string"
            }
          },
          "metadata": {},
          "execution_count": 2
        }
      ]
    },
    {
      "cell_type": "code",
      "source": [
        "import base64\n",
        "ballotId = base64.b64encode(str.encode(ballot_identifier_base64))"
      ],
      "metadata": {
        "id": "e_JrTwcV1epc"
      },
      "execution_count": null,
      "outputs": []
    },
    {
      "cell_type": "code",
      "source": [
        "def int_to_bytes(val):\n",
        "    data = []\n",
        "    while val > 0:\n",
        "        b = val % 256\n",
        "        val = val // 256\n",
        "        data.insert(0, b)\n",
        "    return bytes(data)"
      ],
      "metadata": {
        "id": "CcDw_X9q_83L"
      },
      "execution_count": null,
      "outputs": []
    },
    {
      "cell_type": "code",
      "source": [
        "par = hash(hash(ballotId))\n",
        "VI = base64.b64encode(int_to_bytes(par))\n",
        "VI"
      ],
      "metadata": {
        "colab": {
          "base_uri": "https://localhost:8080/"
        },
        "id": "W8OazXdU1iRU",
        "outputId": "a7d46183-b1bf-4c98-95d5-f00b0cdccbaa"
      },
      "execution_count": null,
      "outputs": [
        {
          "output_type": "execute_result",
          "data": {
            "text/plain": [
              "b'HeyBizfmruI='"
            ]
          },
          "metadata": {},
          "execution_count": 11
        }
      ]
    },
    {
      "cell_type": "markdown",
      "source": [
        "control_code_pieces[1] = Base64(Signature(Base64(Hash(Hash(BallotIdentifier))) + \";\" + ElectionID + \";\" + ElectionEventID + + \";\" + TimeStamp)) control_code_pieces[2] = Base64(BallotIdentifier) control_code_pieces[3] = electionID control_code_pieces[4] = electionEventID control_code_pieces[5] = timestamp"
      ],
      "metadata": {
        "id": "OMg_6jxN6HQT"
      }
    },
    {
      "cell_type": "code",
      "source": [
        "SD = f\"{VI};{election_id};{election_event_id};{timestamp}\"\n",
        "SD"
      ],
      "metadata": {
        "id": "9Zv8tOsk2M9N"
      },
      "execution_count": null,
      "outputs": []
    },
    {
      "cell_type": "code",
      "source": [
        "signature = ballotId\n",
        "signature"
      ],
      "metadata": {
        "colab": {
          "base_uri": "https://localhost:8080/"
        },
        "id": "XKEONo4s6TOV",
        "outputId": "3c5bf9cb-ffb3-41ef-c227-6719fce1dd0a"
      },
      "execution_count": null,
      "outputs": [
        {
          "output_type": "execute_result",
          "data": {
            "text/plain": [
              "b'UHVHT01GRnpJMENMUHdhTGpGR3VoNkVWVEx3bW9GUFY='"
            ]
          },
          "metadata": {},
          "execution_count": 14
        }
      ]
    },
    {
      "cell_type": "code",
      "source": [
        "import base64\n",
        "from cryptography.hazmat.backends import default_backend\n",
        "from cryptography.hazmat.primitives import hashes\n",
        "from cryptography.hazmat.primitives.asymmetric import padding\n",
        "from cryptography.x509 import load_pem_x509_certificate\n",
        "\n",
        "def verify_signature(public_key, signature, signed_data):\n",
        "    try:\n",
        "        # Cargar la clave pública desde el certificado PEM\n",
        "        #public_key = load_pem_x509_certificate(public_key, default_backend()).public_key()\n",
        "\n",
        "        # Verificar la firma\n",
        "        public_key.verify(\n",
        "            base64.b64decode(signature.encode()),\n",
        "            signed_data.encode(),\n",
        "            padding.PSS(\n",
        "                mgf=padding.MGF1(hashes.SHA256()),\n",
        "                salt_length=padding.PSS.MAX_LENGTH\n",
        "            ),\n",
        "            hashes.SHA256()\n",
        "        )\n",
        "\n",
        "        # La firma es válida\n",
        "        return True\n",
        "    except Exception as e:\n",
        "        print(f\"Error en la verificación de la firma: {e}\")\n",
        "        return False"
      ],
      "metadata": {
        "id": "TqF7bk7P-Yrn"
      },
      "execution_count": null,
      "outputs": []
    },
    {
      "cell_type": "code",
      "source": [
        "signature = \"UHVHT01GRnpJMENMUHdhTGpGR3VoNkVWVEx3bW9GUFY=\"  # Reemplaza con tu firma en bytes\n",
        "data = \"HeyBizfmruI=';40289dc4869376800186c1bae1541bcf;40289dc4869376800186c1bae0bb1b82;1678451025377\"       # Reemplaza con tus datos en bytes\n",
        "#public_key = cert_str\n",
        "\n",
        "\n",
        "cert_str = b\"\"\"-----BEGIN CERTIFICATE-----\n",
        "MIIDQTCCAimgAwIBAgIVAOc1BB8roS43G8fmS3ITsqYgDWulMA0GCSqGSIb3DQEB\n",
        "CwUAMEMxCzAJBgNVBAYTAkVTMQ4wDAYDVQQKDAVTY3l0bDEOMAwGA1UECwwFU0NZ\n",
        "VEwxFDASBgNVBAMMC0lOVk9URSAtIENBMB4XDTE2MTAxNzA4MDAwMFoXDTQwMTAx\n",
        "NzA4MDAwMFowTzELMAkGA1UEBhMCRVMxDjAMBgNVBAoMBVNjeXRsMQ4wDAYDVQQL\n",
        "DAVTQ1lUTDEgMB4GA1UEAwwXSU5WT1RFIC0gTUVTU0FHRSBTRVJWRVIwggEiMA0G\n",
        "CSqGSIb3DQEBAQUAA4IBDwAwggEKAoIBAQCh/uC6QPr4qxNSryZAf6YXBr2R3FwB\n",
        "5mBsKRAa4V76mGxm6oBFbz1GPuncN4RuWyG73bhToFyT3JV/3cZ98Dkt8L7uCu6n\n",
        "OnCHycoY+qwdzhAETWsrSLQ1zYeTe7Uv/x5PNJBz/r91yYDcPe8x2Erakj2cMhnZ\n",
        "PXPTxw93zvQnPa7U+rBjKrRHSCN5AZFYgj3JI87fvEkw9qqPStv+DbO/yAlnZC1L\n",
        "t8FxJs2vkBzSYukS/rx8zQ+YAwcJ2rHAK1sXyedMfRQC5/20O56tGgLGYpQJii3l\n",
        "1KFRfCDUbCMjT4e3RtVLTtDsocSjditYjolnX2MrX26RQg9HzgXySHCpAgMBAAGj\n",
        "IDAeMAwGA1UdEwEB/wQCMAAwDgYDVR0PAQH/BAQDAgbAMA0GCSqGSIb3DQEBCwUA\n",
        "A4IBAQA8OgL652pP1QE7mn6x9WbnLUV3k8AkkdGUqr1N/LH1yZ8WtXSRT5QAu8zd\n",
        "nBZ8TML9is/nJGauSKIHwhaHyT8BdrYCBW96SnXN07tBBJ4gDKo7E7XNuOcPQBkN\n",
        "fFec8zuLsfz3DIu0OK74Eb4A4hRDxC2qAR3iq6KN0a5h8BqIe/Kmn7sju0Gf2orf\n",
        "Z2wIg/1j/Erd8p+/QDIfGr0djdsxrs8fRE05pLqa0GrUdzCnqvrJ0SC6kKcNrBVs\n",
        "46fCzTOCqywyn+1K91Qbiui6x9GjcQizjcsLrufTDZdE1+a0YOQ0JsOQC7BTC2mL\n",
        "OGxjhNRfyv4M/kMyK5IJuP7VVjHd\n",
        "-----END CERTIFICATE-----\"\"\"\n",
        "cert_obj = load_pem_x509_certificate(cert_str)\n",
        "public_key = cert_obj.public_key()\n",
        "public_key = load_pem_x509_certificate(cert_str, default_backend()).public_key()\n",
        "\n",
        "\n",
        "public_key.verify(\n",
        "            base64.b64decode(signature.encode()),\n",
        "            data.encode(),\n",
        "            padding.PSS(\n",
        "                mgf=padding.MGF1(hashes.SHA256()),\n",
        "                salt_length=padding.PSS.MAX_LENGTH\n",
        "            ),\n",
        "            hashes.SHA256()\n",
        "        )"
      ],
      "metadata": {
        "colab": {
          "base_uri": "https://localhost:8080/",
          "height": 390
        },
        "id": "Ra6LjpupBBTI",
        "outputId": "71542725-a5d4-48e7-cd1a-e75e688927f1"
      },
      "execution_count": null,
      "outputs": [
        {
          "output_type": "error",
          "ename": "InvalidSignature",
          "evalue": "ignored",
          "traceback": [
            "\u001b[0;31m---------------------------------------------------------------------------\u001b[0m",
            "\u001b[0;31mInvalidSignature\u001b[0m                          Traceback (most recent call last)",
            "\u001b[0;32m<ipython-input-63-b49ce51bd3a7>\u001b[0m in \u001b[0;36m<cell line: 31>\u001b[0;34m()\u001b[0m\n\u001b[1;32m     29\u001b[0m \u001b[0;34m\u001b[0m\u001b[0m\n\u001b[1;32m     30\u001b[0m \u001b[0;34m\u001b[0m\u001b[0m\n\u001b[0;32m---> 31\u001b[0;31m public_key.verify(\n\u001b[0m\u001b[1;32m     32\u001b[0m             \u001b[0mbase64\u001b[0m\u001b[0;34m.\u001b[0m\u001b[0mb64decode\u001b[0m\u001b[0;34m(\u001b[0m\u001b[0msignature\u001b[0m\u001b[0;34m.\u001b[0m\u001b[0mencode\u001b[0m\u001b[0;34m(\u001b[0m\u001b[0;34m)\u001b[0m\u001b[0;34m)\u001b[0m\u001b[0;34m,\u001b[0m\u001b[0;34m\u001b[0m\u001b[0;34m\u001b[0m\u001b[0m\n\u001b[1;32m     33\u001b[0m             \u001b[0mdata\u001b[0m\u001b[0;34m.\u001b[0m\u001b[0mencode\u001b[0m\u001b[0;34m(\u001b[0m\u001b[0;34m)\u001b[0m\u001b[0;34m,\u001b[0m\u001b[0;34m\u001b[0m\u001b[0;34m\u001b[0m\u001b[0m\n",
            "\u001b[0;32m/usr/local/lib/python3.10/dist-packages/cryptography/hazmat/backends/openssl/rsa.py\u001b[0m in \u001b[0;36mverify\u001b[0;34m(self, signature, data, padding, algorithm)\u001b[0m\n\u001b[1;32m    580\u001b[0m     ) -> None:\n\u001b[1;32m    581\u001b[0m         \u001b[0mdata\u001b[0m\u001b[0;34m,\u001b[0m \u001b[0malgorithm\u001b[0m \u001b[0;34m=\u001b[0m \u001b[0m_calculate_digest_and_algorithm\u001b[0m\u001b[0;34m(\u001b[0m\u001b[0mdata\u001b[0m\u001b[0;34m,\u001b[0m \u001b[0malgorithm\u001b[0m\u001b[0;34m)\u001b[0m\u001b[0;34m\u001b[0m\u001b[0;34m\u001b[0m\u001b[0m\n\u001b[0;32m--> 582\u001b[0;31m         _rsa_sig_verify(\n\u001b[0m\u001b[1;32m    583\u001b[0m             \u001b[0mself\u001b[0m\u001b[0;34m.\u001b[0m\u001b[0m_backend\u001b[0m\u001b[0;34m,\u001b[0m \u001b[0mpadding\u001b[0m\u001b[0;34m,\u001b[0m \u001b[0malgorithm\u001b[0m\u001b[0;34m,\u001b[0m \u001b[0mself\u001b[0m\u001b[0;34m,\u001b[0m \u001b[0msignature\u001b[0m\u001b[0;34m,\u001b[0m \u001b[0mdata\u001b[0m\u001b[0;34m\u001b[0m\u001b[0;34m\u001b[0m\u001b[0m\n\u001b[1;32m    584\u001b[0m         )\n",
            "\u001b[0;32m/usr/local/lib/python3.10/dist-packages/cryptography/hazmat/backends/openssl/rsa.py\u001b[0m in \u001b[0;36m_rsa_sig_verify\u001b[0;34m(backend, padding, algorithm, public_key, signature, data)\u001b[0m\n\u001b[1;32m    322\u001b[0m     \u001b[0;32mif\u001b[0m \u001b[0mres\u001b[0m \u001b[0;34m==\u001b[0m \u001b[0;36m0\u001b[0m\u001b[0;34m:\u001b[0m\u001b[0;34m\u001b[0m\u001b[0;34m\u001b[0m\u001b[0m\n\u001b[1;32m    323\u001b[0m         \u001b[0mbackend\u001b[0m\u001b[0;34m.\u001b[0m\u001b[0m_consume_errors\u001b[0m\u001b[0;34m(\u001b[0m\u001b[0;34m)\u001b[0m\u001b[0;34m\u001b[0m\u001b[0;34m\u001b[0m\u001b[0m\n\u001b[0;32m--> 324\u001b[0;31m         \u001b[0;32mraise\u001b[0m \u001b[0mInvalidSignature\u001b[0m\u001b[0;34m\u001b[0m\u001b[0;34m\u001b[0m\u001b[0m\n\u001b[0m\u001b[1;32m    325\u001b[0m \u001b[0;34m\u001b[0m\u001b[0m\n\u001b[1;32m    326\u001b[0m \u001b[0;34m\u001b[0m\u001b[0m\n",
            "\u001b[0;31mInvalidSignature\u001b[0m: "
          ]
        }
      ]
    },
    {
      "cell_type": "code",
      "source": [],
      "metadata": {
        "id": "ZKZqdIb8EMZR"
      },
      "execution_count": null,
      "outputs": []
    }
  ]
}